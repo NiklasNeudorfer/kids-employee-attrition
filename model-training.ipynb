{
 "cells": [
  {
   "cell_type": "markdown",
   "metadata": {},
   "source": [
    "# Employee Attrition - Training the model"
   ]
  },
  {
   "cell_type": "code",
   "execution_count": 55,
   "metadata": {
    "scrolled": true
   },
   "outputs": [
    {
     "data": {
      "text/plain": [
       "Age                                    int64\n",
       "Attrition                               bool\n",
       "BusinessTravel                       float64\n",
       "DailyRate                              int64\n",
       "DistanceFromHome                       int64\n",
       "Education                              int64\n",
       "EmployeeCount                          int64\n",
       "EmployeeNumber                         int64\n",
       "EnvironmentSatisfaction                int64\n",
       "Gender                                 int64\n",
       "HourlyRate                             int64\n",
       "JobInvolvement                         int64\n",
       "JobLevel                               int64\n",
       "JobSatisfaction                        int64\n",
       "MonthlyIncome                          int64\n",
       "MonthlyRate                            int64\n",
       "NumCompaniesWorked                     int64\n",
       "Over18                                  bool\n",
       "OverTime                                bool\n",
       "PercentSalaryHike                      int64\n",
       "PerformanceRating                      int64\n",
       "RelationshipSatisfaction               int64\n",
       "StandardHours                          int64\n",
       "StockOptionLevel                       int64\n",
       "TotalWorkingYears                      int64\n",
       "TrainingTimesLastYear                  int64\n",
       "WorkLifeBalance                        int64\n",
       "YearsAtCompany                         int64\n",
       "YearsInCurrentRole                     int64\n",
       "YearsSinceLastPromotion                int64\n",
       "YearsWithCurrManager                   int64\n",
       "Department_Human Resources           float64\n",
       "Department_Research & Development    float64\n",
       "Department_Sales                     float64\n",
       "EducationField_Human Resources       float64\n",
       "EducationField_Life Sciences         float64\n",
       "EducationField_Marketing             float64\n",
       "EducationField_Medical               float64\n",
       "EducationField_Other                 float64\n",
       "EducationField_Technical Degree      float64\n",
       "JobRole_Healthcare Representative    float64\n",
       "JobRole_Human Resources              float64\n",
       "JobRole_Laboratory Technician        float64\n",
       "JobRole_Manager                      float64\n",
       "JobRole_Manufacturing Director       float64\n",
       "JobRole_Research Director            float64\n",
       "JobRole_Research Scientist           float64\n",
       "JobRole_Sales Executive              float64\n",
       "JobRole_Sales Representative         float64\n",
       "MaritalStatus_Divorced               float64\n",
       "MaritalStatus_Married                float64\n",
       "MaritalStatus_Single                 float64\n",
       "dtype: object"
      ]
     },
     "execution_count": 55,
     "metadata": {},
     "output_type": "execute_result"
    }
   ],
   "source": [
    "import pandas as pd\n",
    "import matplotlib.pyplot as plt\n",
    "import seaborn as sns\n",
    "import numpy as np\n",
    "\n",
    "employee_data = pd.read_csv(\"data/prepared-employee_attrition.csv\",index_col=0)\n",
    "#employee_data.set_index(employee_data.iloc[0], inplace=True)\n",
    "employee_data.dtypes"
   ]
  },
  {
   "cell_type": "markdown",
   "metadata": {},
   "source": [
    "# Splitting The Data"
   ]
  },
  {
   "cell_type": "code",
   "execution_count": 56,
   "metadata": {
    "scrolled": true
   },
   "outputs": [
    {
     "data": {
      "text/plain": [
       "array([<AxesSubplot: ylabel='0'>], dtype=object)"
      ]
     },
     "execution_count": 56,
     "metadata": {},
     "output_type": "execute_result"
    },
    {
     "data": {
      "image/png": "[encoded data removed]",
      "text/plain": [
       "<Figure size 640x480 with 1 Axes>"
      ]
     },
     "metadata": {},
     "output_type": "display_data"
    }
   ],
   "source": [
    "from sklearn.tree import DecisionTreeClassifier\n",
    "from sklearn.model_selection import train_test_split\n",
    "from sklearn import metrics\n",
    "\n",
    "my_test_and_val_size = 0.3\n",
    "\n",
    "X = employee_data.loc[:, employee_data.columns != 'Attrition']\n",
    "y = employee_data['Attrition']\n",
    "X_train, X_test_full, y_train, y_test_full = train_test_split(X, y, test_size=my_test_and_val_size)\n",
    "X_val, X_test, y_val, y_test = train_test_split(X_test_full, y_test_full, test_size=0.5)\n",
    "\n",
    "pd.DataFrame([len(y_train), len(y_val), len(y_test)], index=['train', 'validation', 'test']).plot(kind='pie', subplots=True)\n",
    "    \n",
    "    \n",
    "    "
   ]
  },
  {
   "cell_type": "markdown",
   "metadata": {},
   "source": [
    "After that we want a equal distribution of our labels (stratify)"
   ]
  },
  {
   "cell_type": "code",
   "execution_count": 57,
   "metadata": {},
   "outputs": [],
   "source": [
    "X_train, X_test_full, y_train, y_test_full = train_test_split(X, y, test_size=my_test_and_val_size, stratify=y)\n",
    "X_val, X_test, y_val, y_test = train_test_split(X_test_full, y_test_full, test_size=0.5, stratify=y_test_full)"
   ]
  },
  {
   "cell_type": "code",
   "execution_count": 58,
   "metadata": {},
   "outputs": [
    {
     "data": {
      "text/plain": [
       "<AxesSubplot: title={'center': 'test'}, ylabel='Attrition'>"
      ]
     },
     "execution_count": 58,
     "metadata": {},
     "output_type": "execute_result"
    },
    {
     "data": {
      "image/png": "[encoded data removed]",
      "text/plain": [
       "<Figure size 1200x600 with 3 Axes>"
      ]
     },
     "metadata": {},
     "output_type": "display_data"
    }
   ],
   "source": [
    "fig, (ax1, ax2, ax3) = plt.subplots(1, 3, figsize=(12,6))\n",
    "y_train.value_counts().plot(kind='pie', ax=ax1, title='train')\n",
    "y_val.value_counts().plot(kind='pie', ax=ax2, title='val')\n",
    "y_test.value_counts().plot(kind='pie', ax=ax3, title='test')"
   ]
  },
  {
   "cell_type": "markdown",
   "metadata": {},
   "source": [
    "# Training The Model"
   ]
  },
  {
   "cell_type": "markdown",
   "metadata": {},
   "source": [
    "## Baseline"
   ]
  },
  {
   "cell_type": "code",
   "execution_count": 59,
   "metadata": {},
   "outputs": [],
   "source": [
    "from sklearn.dummy import DummyClassifier"
   ]
  },
  {
   "cell_type": "code",
   "execution_count": 60,
   "metadata": {},
   "outputs": [
    {
     "name": "stdout",
     "output_type": "stream",
     "text": [
      "Accuracy: 83.71%\n"
     ]
    }
   ],
   "source": [
    "dummy_model = DummyClassifier(strategy='most_frequent')\n",
    "dummy_model.fit(X_train, y_train)\n",
    "y_pred = dummy_model.predict(X_test)\n",
    "accuracy_score = metrics.accuracy_score(y_test, y_pred)\n",
    "print('Accuracy: {:.2%}'.format(accuracy_score))"
   ]
  },
  {
   "cell_type": "markdown",
   "metadata": {},
   "source": [
    "## Decision Tree"
   ]
  },
  {
   "cell_type": "code",
   "execution_count": 61,
   "metadata": {},
   "outputs": [
    {
     "name": "stdout",
     "output_type": "stream",
     "text": [
      "Accuracy: 78.64%\n"
     ]
    }
   ],
   "source": [
    "dt_model = DecisionTreeClassifier()\n",
    "dt_model.fit(X_train, y_train)\n",
    "y_pred = dt_model.predict(X_val)\n",
    "accuracy_score = metrics.accuracy_score(y_val, y_pred)\n",
    "print('Accuracy: {:.2%}'.format(accuracy_score))"
   ]
  },
  {
   "cell_type": "markdown",
   "metadata": {},
   "source": [
    "### Nice we are performing worse :) igkms "
   ]
  },
  {
   "cell_type": "code",
   "execution_count": 62,
   "metadata": {},
   "outputs": [],
   "source": [
    "def train_and_find_best_depth(X_train, X_val, y_train, y_val, do_print):\n",
    "    result = None\n",
    "    accuracy_max = -1\n",
    "    for curr_max_depth in range(1, 15):\n",
    "        dt_model = DecisionTreeClassifier(max_depth=curr_max_depth)\n",
    "        dt_model.fit(X_train, y_train)\n",
    "        y_pred = dt_model.predict(X_val)\n",
    "        accuracy_score = metrics.accuracy_score(y_val, y_pred)\n",
    "        \n",
    "        if accuracy_score >= accuracy_max:\n",
    "            accuracy_max = accuracy_score\n",
    "            result = curr_max_depth\n",
    "        if do_print:\n",
    "            print('max depth {}: {:.2%} accuracy on validation set.'.format(curr_max_depth, accuracy_score))\n",
    "    if do_print:\n",
    "        print('-' * 20)\n",
    "    print('best max depth {} has {:.2%} accuracy.'.format(result, accuracy_max))\n",
    "    return result"
   ]
  },
  {
   "cell_type": "code",
   "execution_count": 63,
   "metadata": {},
   "outputs": [
    {
     "name": "stdout",
     "output_type": "stream",
     "text": [
      "max depth 1: 84.09% accuracy on validation set.\n",
      "max depth 2: 85.91% accuracy on validation set.\n",
      "max depth 3: 85.00% accuracy on validation set.\n",
      "max depth 4: 85.00% accuracy on validation set.\n",
      "max depth 5: 83.64% accuracy on validation set.\n",
      "max depth 6: 83.64% accuracy on validation set.\n",
      "max depth 7: 82.27% accuracy on validation set.\n",
      "max depth 8: 81.36% accuracy on validation set.\n",
      "max depth 9: 82.73% accuracy on validation set.\n",
      "max depth 10: 81.36% accuracy on validation set.\n",
      "max depth 11: 80.00% accuracy on validation set.\n",
      "max depth 12: 79.09% accuracy on validation set.\n",
      "max depth 13: 79.09% accuracy on validation set.\n",
      "max depth 14: 78.18% accuracy on validation set.\n",
      "--------------------\n",
      "best max depth 2 has 85.91% accuracy.\n"
     ]
    }
   ],
   "source": [
    " best_max_depth = train_and_find_best_depth(X_train, X_val, y_train, y_val, True)"
   ]
  },
  {
   "cell_type": "markdown",
   "metadata": {},
   "source": [
    "### Finally performing better than random"
   ]
  },
  {
   "cell_type": "code",
   "execution_count": 64,
   "metadata": {},
   "outputs": [
    {
     "name": "stdout",
     "output_type": "stream",
     "text": [
      "Accuracy: 83.42%\n",
      "Recall: 10.00%\n",
      "Precision: 46.15%\n",
      "F1 Score: 16.44%\n"
     ]
    }
   ],
   "source": [
    "dt_model = DecisionTreeClassifier(max_depth=best_max_depth)\n",
    "dt_model.fit(X_train, y_train)\n",
    "y_pred = dt_model.predict(X_test)\n",
    "accuracy_score = metrics.accuracy_score(y_test, y_pred)\n",
    "\n",
    "print('Accuracy: {:.2%}'.format(metrics.accuracy_score(test_y, pred_y)))\n",
    "print('Recall: {:.2%}'.format(metrics.recall_score(test_y, pred_y)))\n",
    "print('Precision: {:.2%}'.format(metrics.precision_score(test_y, pred_y)))\n",
    "print('F1 Score: {:.2%}'.format(metrics.f1_score(test_y, pred_y)))\n"
   ]
  },
  {
   "cell_type": "code",
   "execution_count": 65,
   "metadata": {},
   "outputs": [
    {
     "data": {
      "text/plain": [
       "<sklearn.metrics._plot.confusion_matrix.ConfusionMatrixDisplay at 0x146f436a0>"
      ]
     },
     "execution_count": 65,
     "metadata": {},
     "output_type": "execute_result"
    },
    {
     "data": {
      "image/png": "[encoded data removed]",
      "text/plain": [
       "<Figure size 640x480 with 2 Axes>"
      ]
     },
     "metadata": {},
     "output_type": "display_data"
    }
   ],
   "source": [
    "from sklearn.metrics import confusion_matrix\n",
    "from sklearn.metrics import ConfusionMatrixDisplay\n",
    "cm = confusion_matrix(y_test, y_pred)\n",
    "cm_display = ConfusionMatrixDisplay(cm)\n",
    "cm_display.plot()"
   ]
  },
  {
   "cell_type": "code",
   "execution_count": 66,
   "metadata": {},
   "outputs": [
    {
     "name": "stdout",
     "output_type": "stream",
     "text": [
      "Accuracy: 84.62%\n",
      "Recall: 16.67%\n",
      "Precision: 60.00%\n",
      "F1 Score: 26.09%\n"
     ]
    }
   ],
   "source": [
    "print('Accuracy: {:.2%}'.format(metrics.accuracy_score(y_test, y_pred)))\n",
    "print('Recall: {:.2%}'.format(metrics.recall_score(y_test, y_pred)))\n",
    "print('Precision: {:.2%}'.format(metrics.precision_score(y_test, y_pred)))\n",
    "print('F1 Score: {:.2%}'.format(metrics.f1_score(y_test, y_pred)))\n"
   ]
  },
  {
   "cell_type": "markdown",
   "metadata": {},
   "source": [
    "# Cross Validation "
   ]
  },
  {
   "cell_type": "code",
   "execution_count": 67,
   "metadata": {},
   "outputs": [
    {
     "data": {
      "text/plain": [
       "0.8448979591836736"
      ]
     },
     "execution_count": 67,
     "metadata": {},
     "output_type": "execute_result"
    }
   ],
   "source": [
    "from sklearn.model_selection import cross_val_score\n",
    "scores = cross_val_score(dt_model, X, y, scoring='accuracy', cv=5)\n",
    "scores.mean()\n"
   ]
  },
  {
   "cell_type": "code",
   "execution_count": 68,
   "metadata": {},
   "outputs": [
    {
     "data": {
      "text/plain": [
       "0.2075354609929078"
      ]
     },
     "execution_count": 68,
     "metadata": {},
     "output_type": "execute_result"
    }
   ],
   "source": [
    "scores = cross_val_score(dt_model, X, y, scoring='recall', cv=5)\n",
    "scores.mean()"
   ]
  },
  {
   "cell_type": "code",
   "execution_count": 69,
   "metadata": {},
   "outputs": [
    {
     "data": {
      "text/plain": [
       "0.27973359090996575"
      ]
     },
     "execution_count": 69,
     "metadata": {},
     "output_type": "execute_result"
    }
   ],
   "source": [
    "scores = cross_val_score(dt_model, X, y, scoring='f1', cv=5)\n",
    "scores.mean()"
   ]
  },
  {
   "cell_type": "code",
   "execution_count": 70,
   "metadata": {},
   "outputs": [
    {
     "name": "stdout",
     "output_type": "stream",
     "text": [
      "Accuracy: 84.78%\n",
      "Recall: 12.70%\n",
      "Precision: 88.89%\n",
      "F1 Score: 22.22%\n"
     ]
    }
   ],
   "source": [
    "from sklearn.ensemble import RandomForestClassifier\n",
    "\n",
    "X = employee_data.loc[:, employee_data.columns != 'Attrition']\n",
    "y = employee_data['Attrition']\n",
    "\n",
    "train_X, test_X, train_y, test_y = train_test_split(X, y)\n",
    "rf_model = RandomForestClassifier()\n",
    "rf_model.fit(train_X, train_y)\n",
    "pred_y = rf_model.predict(test_X)\n",
    "accuracy_score = metrics.accuracy_score(pred_y, test_y)\n",
    "\n",
    "print('Accuracy: {:.2%}'.format(metrics.accuracy_score(test_y, pred_y)))\n",
    "print('Recall: {:.2%}'.format(metrics.recall_score(test_y, pred_y)))\n",
    "print('Precision: {:.2%}'.format(metrics.precision_score(test_y, pred_y)))\n",
    "print('F1 Score: {:.2%}'.format(metrics.f1_score(test_y, pred_y)))"
   ]
  },
  {
   "cell_type": "code",
   "execution_count": 71,
   "metadata": {},
   "outputs": [
    {
     "name": "stdout",
     "output_type": "stream",
     "text": [
      "Accuracy: 77.38%\n",
      "Recall: 66.67%\n",
      "Precision: 38.71%\n",
      "F1: 48.98%\n"
     ]
    }
   ],
   "source": [
    "from imblearn.under_sampling import RandomUnderSampler\n",
    "\n",
    "undersampler = RandomUnderSampler(sampling_strategy=1)\n",
    "X_under, y_under = undersampler.fit_resample(X_train, y_train)\n",
    "\n",
    "rf_model = RandomForestClassifier()\n",
    "rf_model.fit(X_under, y_under)\n",
    "y_pred = rf_model.predict(X_test)\n",
    "print('Accuracy: {:.2%}'.format(metrics.accuracy_score(y_test, y_pred)))\n",
    "print('Recall: {:.2%}'.format(metrics.recall_score(y_test, y_pred)))\n",
    "print('Precision: {:.2%}'.format(metrics.precision_score(y_test, y_pred)))\n",
    "print('F1: {:.2%}'.format(metrics.f1_score(y_test, y_pred)))"
   ]
  },
  {
   "cell_type": "code",
   "execution_count": 72,
   "metadata": {},
   "outputs": [
    {
     "name": "stdout",
     "output_type": "stream",
     "text": [
      "Accuracy: 86.43%\n",
      "Precision: 75.00%\n",
      "Recall: 25.00%\n",
      "F1: 37.50%\n"
     ]
    }
   ],
   "source": [
    "from imblearn.over_sampling import RandomOverSampler\n",
    "oversampler = RandomOverSampler(sampling_strategy=1)\n",
    "X_over, y_over = oversampler.fit_resample(X_train, y_train)\n",
    "\n",
    "rf_model = RandomForestClassifier()\n",
    "rf_model.fit(X_over, y_over)\n",
    "y_pred = rf_model.predict(X_test)\n",
    "\n",
    "print('Accuracy: {:.2%}'.format(metrics.accuracy_score(y_test, y_pred)))\n",
    "print('Precision: {:.2%}'.format(metrics.precision_score(y_test, y_pred)))\n",
    "print('Recall: {:.2%}'.format(metrics.recall_score(y_test, y_pred)))\n",
    "print('F1: {:.2%}'.format(metrics.f1_score(y_test, y_pred)))"
   ]
  },
  {
   "cell_type": "code",
   "execution_count": 91,
   "metadata": {},
   "outputs": [
    {
     "data": {
      "text/plain": [
       "51"
      ]
     },
     "execution_count": 91,
     "metadata": {},
     "output_type": "execute_result"
    }
   ],
   "source": [
    "len(X.columns)"
   ]
  },
  {
   "cell_type": "code",
   "execution_count": 97,
   "metadata": {},
   "outputs": [
    {
     "data": {
      "text/html": [
       "<div>\n",
       "<style scoped>\n",
       "    .dataframe tbody tr th:only-of-type {\n",
       "        vertical-align: middle;\n",
       "    }\n",
       "\n",
       "    .dataframe tbody tr th {\n",
       "        vertical-align: top;\n",
       "    }\n",
       "\n",
       "    .dataframe thead th {\n",
       "        text-align: right;\n",
       "    }\n",
       "</style>\n",
       "<table border=\"1\" class=\"dataframe\">\n",
       "  <thead>\n",
       "    <tr style=\"text-align: right;\">\n",
       "      <th></th>\n",
       "      <th>Age</th>\n",
       "      <th>BusinessTravel</th>\n",
       "      <th>DailyRate</th>\n",
       "      <th>DistanceFromHome</th>\n",
       "      <th>Education</th>\n",
       "      <th>EmployeeCount</th>\n",
       "      <th>EmployeeNumber</th>\n",
       "      <th>EnvironmentSatisfaction</th>\n",
       "      <th>Gender</th>\n",
       "      <th>HourlyRate</th>\n",
       "      <th>...</th>\n",
       "      <th>JobRole_Laboratory Technician</th>\n",
       "      <th>JobRole_Manager</th>\n",
       "      <th>JobRole_Manufacturing Director</th>\n",
       "      <th>JobRole_Research Director</th>\n",
       "      <th>JobRole_Research Scientist</th>\n",
       "      <th>JobRole_Sales Executive</th>\n",
       "      <th>JobRole_Sales Representative</th>\n",
       "      <th>MaritalStatus_Divorced</th>\n",
       "      <th>MaritalStatus_Married</th>\n",
       "      <th>MaritalStatus_Single</th>\n",
       "    </tr>\n",
       "  </thead>\n",
       "  <tbody>\n",
       "    <tr>\n",
       "      <th>0</th>\n",
       "      <td>41</td>\n",
       "      <td>2.0</td>\n",
       "      <td>1102</td>\n",
       "      <td>1</td>\n",
       "      <td>2</td>\n",
       "      <td>1</td>\n",
       "      <td>1</td>\n",
       "      <td>2</td>\n",
       "      <td>0</td>\n",
       "      <td>94</td>\n",
       "      <td>...</td>\n",
       "      <td>0.0</td>\n",
       "      <td>0.0</td>\n",
       "      <td>0.0</td>\n",
       "      <td>0.0</td>\n",
       "      <td>0.0</td>\n",
       "      <td>1.0</td>\n",
       "      <td>0.0</td>\n",
       "      <td>0.0</td>\n",
       "      <td>0.0</td>\n",
       "      <td>1.0</td>\n",
       "    </tr>\n",
       "    <tr>\n",
       "      <th>1</th>\n",
       "      <td>49</td>\n",
       "      <td>1.0</td>\n",
       "      <td>279</td>\n",
       "      <td>8</td>\n",
       "      <td>1</td>\n",
       "      <td>1</td>\n",
       "      <td>2</td>\n",
       "      <td>3</td>\n",
       "      <td>1</td>\n",
       "      <td>61</td>\n",
       "      <td>...</td>\n",
       "      <td>0.0</td>\n",
       "      <td>0.0</td>\n",
       "      <td>0.0</td>\n",
       "      <td>0.0</td>\n",
       "      <td>1.0</td>\n",
       "      <td>0.0</td>\n",
       "      <td>0.0</td>\n",
       "      <td>0.0</td>\n",
       "      <td>1.0</td>\n",
       "      <td>0.0</td>\n",
       "    </tr>\n",
       "    <tr>\n",
       "      <th>2</th>\n",
       "      <td>37</td>\n",
       "      <td>2.0</td>\n",
       "      <td>1373</td>\n",
       "      <td>2</td>\n",
       "      <td>2</td>\n",
       "      <td>1</td>\n",
       "      <td>4</td>\n",
       "      <td>4</td>\n",
       "      <td>1</td>\n",
       "      <td>92</td>\n",
       "      <td>...</td>\n",
       "      <td>1.0</td>\n",
       "      <td>0.0</td>\n",
       "      <td>0.0</td>\n",
       "      <td>0.0</td>\n",
       "      <td>0.0</td>\n",
       "      <td>0.0</td>\n",
       "      <td>0.0</td>\n",
       "      <td>0.0</td>\n",
       "      <td>0.0</td>\n",
       "      <td>1.0</td>\n",
       "    </tr>\n",
       "    <tr>\n",
       "      <th>3</th>\n",
       "      <td>33</td>\n",
       "      <td>1.0</td>\n",
       "      <td>1392</td>\n",
       "      <td>3</td>\n",
       "      <td>4</td>\n",
       "      <td>1</td>\n",
       "      <td>5</td>\n",
       "      <td>4</td>\n",
       "      <td>0</td>\n",
       "      <td>56</td>\n",
       "      <td>...</td>\n",
       "      <td>0.0</td>\n",
       "      <td>0.0</td>\n",
       "      <td>0.0</td>\n",
       "      <td>0.0</td>\n",
       "      <td>1.0</td>\n",
       "      <td>0.0</td>\n",
       "      <td>0.0</td>\n",
       "      <td>0.0</td>\n",
       "      <td>1.0</td>\n",
       "      <td>0.0</td>\n",
       "    </tr>\n",
       "    <tr>\n",
       "      <th>4</th>\n",
       "      <td>27</td>\n",
       "      <td>2.0</td>\n",
       "      <td>591</td>\n",
       "      <td>2</td>\n",
       "      <td>1</td>\n",
       "      <td>1</td>\n",
       "      <td>7</td>\n",
       "      <td>1</td>\n",
       "      <td>1</td>\n",
       "      <td>40</td>\n",
       "      <td>...</td>\n",
       "      <td>1.0</td>\n",
       "      <td>0.0</td>\n",
       "      <td>0.0</td>\n",
       "      <td>0.0</td>\n",
       "      <td>0.0</td>\n",
       "      <td>0.0</td>\n",
       "      <td>0.0</td>\n",
       "      <td>0.0</td>\n",
       "      <td>1.0</td>\n",
       "      <td>0.0</td>\n",
       "    </tr>\n",
       "    <tr>\n",
       "      <th>5</th>\n",
       "      <td>32</td>\n",
       "      <td>1.0</td>\n",
       "      <td>1005</td>\n",
       "      <td>2</td>\n",
       "      <td>2</td>\n",
       "      <td>1</td>\n",
       "      <td>8</td>\n",
       "      <td>4</td>\n",
       "      <td>1</td>\n",
       "      <td>79</td>\n",
       "      <td>...</td>\n",
       "      <td>1.0</td>\n",
       "      <td>0.0</td>\n",
       "      <td>0.0</td>\n",
       "      <td>0.0</td>\n",
       "      <td>0.0</td>\n",
       "      <td>0.0</td>\n",
       "      <td>0.0</td>\n",
       "      <td>0.0</td>\n",
       "      <td>0.0</td>\n",
       "      <td>1.0</td>\n",
       "    </tr>\n",
       "    <tr>\n",
       "      <th>6</th>\n",
       "      <td>59</td>\n",
       "      <td>2.0</td>\n",
       "      <td>1324</td>\n",
       "      <td>3</td>\n",
       "      <td>3</td>\n",
       "      <td>1</td>\n",
       "      <td>10</td>\n",
       "      <td>3</td>\n",
       "      <td>0</td>\n",
       "      <td>81</td>\n",
       "      <td>...</td>\n",
       "      <td>1.0</td>\n",
       "      <td>0.0</td>\n",
       "      <td>0.0</td>\n",
       "      <td>0.0</td>\n",
       "      <td>0.0</td>\n",
       "      <td>0.0</td>\n",
       "      <td>0.0</td>\n",
       "      <td>0.0</td>\n",
       "      <td>1.0</td>\n",
       "      <td>0.0</td>\n",
       "    </tr>\n",
       "    <tr>\n",
       "      <th>7</th>\n",
       "      <td>30</td>\n",
       "      <td>2.0</td>\n",
       "      <td>1358</td>\n",
       "      <td>24</td>\n",
       "      <td>1</td>\n",
       "      <td>1</td>\n",
       "      <td>11</td>\n",
       "      <td>4</td>\n",
       "      <td>1</td>\n",
       "      <td>67</td>\n",
       "      <td>...</td>\n",
       "      <td>1.0</td>\n",
       "      <td>0.0</td>\n",
       "      <td>0.0</td>\n",
       "      <td>0.0</td>\n",
       "      <td>0.0</td>\n",
       "      <td>0.0</td>\n",
       "      <td>0.0</td>\n",
       "      <td>1.0</td>\n",
       "      <td>0.0</td>\n",
       "      <td>0.0</td>\n",
       "    </tr>\n",
       "    <tr>\n",
       "      <th>8</th>\n",
       "      <td>38</td>\n",
       "      <td>1.0</td>\n",
       "      <td>216</td>\n",
       "      <td>23</td>\n",
       "      <td>3</td>\n",
       "      <td>1</td>\n",
       "      <td>12</td>\n",
       "      <td>4</td>\n",
       "      <td>1</td>\n",
       "      <td>44</td>\n",
       "      <td>...</td>\n",
       "      <td>0.0</td>\n",
       "      <td>0.0</td>\n",
       "      <td>1.0</td>\n",
       "      <td>0.0</td>\n",
       "      <td>0.0</td>\n",
       "      <td>0.0</td>\n",
       "      <td>0.0</td>\n",
       "      <td>0.0</td>\n",
       "      <td>0.0</td>\n",
       "      <td>1.0</td>\n",
       "    </tr>\n",
       "    <tr>\n",
       "      <th>9</th>\n",
       "      <td>36</td>\n",
       "      <td>2.0</td>\n",
       "      <td>1299</td>\n",
       "      <td>27</td>\n",
       "      <td>3</td>\n",
       "      <td>1</td>\n",
       "      <td>13</td>\n",
       "      <td>3</td>\n",
       "      <td>1</td>\n",
       "      <td>94</td>\n",
       "      <td>...</td>\n",
       "      <td>0.0</td>\n",
       "      <td>0.0</td>\n",
       "      <td>0.0</td>\n",
       "      <td>0.0</td>\n",
       "      <td>0.0</td>\n",
       "      <td>0.0</td>\n",
       "      <td>0.0</td>\n",
       "      <td>0.0</td>\n",
       "      <td>1.0</td>\n",
       "      <td>0.0</td>\n",
       "    </tr>\n",
       "    <tr>\n",
       "      <th>10</th>\n",
       "      <td>35</td>\n",
       "      <td>2.0</td>\n",
       "      <td>809</td>\n",
       "      <td>16</td>\n",
       "      <td>3</td>\n",
       "      <td>1</td>\n",
       "      <td>14</td>\n",
       "      <td>1</td>\n",
       "      <td>1</td>\n",
       "      <td>84</td>\n",
       "      <td>...</td>\n",
       "      <td>1.0</td>\n",
       "      <td>0.0</td>\n",
       "      <td>0.0</td>\n",
       "      <td>0.0</td>\n",
       "      <td>0.0</td>\n",
       "      <td>0.0</td>\n",
       "      <td>0.0</td>\n",
       "      <td>0.0</td>\n",
       "      <td>1.0</td>\n",
       "      <td>0.0</td>\n",
       "    </tr>\n",
       "  </tbody>\n",
       "</table>\n",
       "<p>11 rows × 51 columns</p>\n",
       "</div>"
      ],
      "text/plain": [
       "    Age  BusinessTravel  DailyRate  DistanceFromHome  Education  \\\n",
       "0    41             2.0       1102                 1          2   \n",
       "1    49             1.0        279                 8          1   \n",
       "2    37             2.0       1373                 2          2   \n",
       "3    33             1.0       1392                 3          4   \n",
       "4    27             2.0        591                 2          1   \n",
       "5    32             1.0       1005                 2          2   \n",
       "6    59             2.0       1324                 3          3   \n",
       "7    30             2.0       1358                24          1   \n",
       "8    38             1.0        216                23          3   \n",
       "9    36             2.0       1299                27          3   \n",
       "10   35             2.0        809                16          3   \n",
       "\n",
       "    EmployeeCount  EmployeeNumber  EnvironmentSatisfaction  Gender  \\\n",
       "0               1               1                        2       0   \n",
       "1               1               2                        3       1   \n",
       "2               1               4                        4       1   \n",
       "3               1               5                        4       0   \n",
       "4               1               7                        1       1   \n",
       "5               1               8                        4       1   \n",
       "6               1              10                        3       0   \n",
       "7               1              11                        4       1   \n",
       "8               1              12                        4       1   \n",
       "9               1              13                        3       1   \n",
       "10              1              14                        1       1   \n",
       "\n",
       "    HourlyRate  ...  JobRole_Laboratory Technician  JobRole_Manager  \\\n",
       "0           94  ...                            0.0              0.0   \n",
       "1           61  ...                            0.0              0.0   \n",
       "2           92  ...                            1.0              0.0   \n",
       "3           56  ...                            0.0              0.0   \n",
       "4           40  ...                            1.0              0.0   \n",
       "5           79  ...                            1.0              0.0   \n",
       "6           81  ...                            1.0              0.0   \n",
       "7           67  ...                            1.0              0.0   \n",
       "8           44  ...                            0.0              0.0   \n",
       "9           94  ...                            0.0              0.0   \n",
       "10          84  ...                            1.0              0.0   \n",
       "\n",
       "    JobRole_Manufacturing Director  JobRole_Research Director  \\\n",
       "0                              0.0                        0.0   \n",
       "1                              0.0                        0.0   \n",
       "2                              0.0                        0.0   \n",
       "3                              0.0                        0.0   \n",
       "4                              0.0                        0.0   \n",
       "5                              0.0                        0.0   \n",
       "6                              0.0                        0.0   \n",
       "7                              0.0                        0.0   \n",
       "8                              1.0                        0.0   \n",
       "9                              0.0                        0.0   \n",
       "10                             0.0                        0.0   \n",
       "\n",
       "    JobRole_Research Scientist  JobRole_Sales Executive  \\\n",
       "0                          0.0                      1.0   \n",
       "1                          1.0                      0.0   \n",
       "2                          0.0                      0.0   \n",
       "3                          1.0                      0.0   \n",
       "4                          0.0                      0.0   \n",
       "5                          0.0                      0.0   \n",
       "6                          0.0                      0.0   \n",
       "7                          0.0                      0.0   \n",
       "8                          0.0                      0.0   \n",
       "9                          0.0                      0.0   \n",
       "10                         0.0                      0.0   \n",
       "\n",
       "    JobRole_Sales Representative  MaritalStatus_Divorced  \\\n",
       "0                            0.0                     0.0   \n",
       "1                            0.0                     0.0   \n",
       "2                            0.0                     0.0   \n",
       "3                            0.0                     0.0   \n",
       "4                            0.0                     0.0   \n",
       "5                            0.0                     0.0   \n",
       "6                            0.0                     0.0   \n",
       "7                            0.0                     1.0   \n",
       "8                            0.0                     0.0   \n",
       "9                            0.0                     0.0   \n",
       "10                           0.0                     0.0   \n",
       "\n",
       "    MaritalStatus_Married  MaritalStatus_Single  \n",
       "0                     0.0                   1.0  \n",
       "1                     1.0                   0.0  \n",
       "2                     0.0                   1.0  \n",
       "3                     1.0                   0.0  \n",
       "4                     1.0                   0.0  \n",
       "5                     0.0                   1.0  \n",
       "6                     1.0                   0.0  \n",
       "7                     0.0                   0.0  \n",
       "8                     0.0                   1.0  \n",
       "9                     1.0                   0.0  \n",
       "10                    1.0                   0.0  \n",
       "\n",
       "[11 rows x 51 columns]"
      ]
     },
     "execution_count": 97,
     "metadata": {},
     "output_type": "execute_result"
    }
   ],
   "source": [
    "X.loc[:, X.columns!=]"
   ]
  },
  {
   "cell_type": "code",
   "execution_count": 86,
   "metadata": {},
   "outputs": [
    {
     "ename": "ValueError",
     "evalue": "Some of the categorical indices are out of range. Indices should be between 0 and 50",
     "output_type": "error",
     "traceback": [
      "\u001b[0;31m---------------------------------------------------------------------------\u001b[0m",
      "\u001b[0;31mValueError\u001b[0m                                Traceback (most recent call last)",
      "Cell \u001b[0;32mIn [86], line 15\u001b[0m\n\u001b[1;32m     12\u001b[0m X_test_scaled\u001b[38;5;241m.\u001b[39mindex \u001b[38;5;241m=\u001b[39m X_test\u001b[38;5;241m.\u001b[39mindex\n\u001b[1;32m     13\u001b[0m X_test_scaled\u001b[38;5;241m.\u001b[39mcolumns \u001b[38;5;241m=\u001b[39m X_test\u001b[38;5;241m.\u001b[39mcolumns\n\u001b[0;32m---> 15\u001b[0m X_smote, y_smote \u001b[38;5;241m=\u001b[39m \u001b[43msmote\u001b[49m\u001b[38;5;241;43m.\u001b[39;49m\u001b[43mfit_resample\u001b[49m\u001b[43m(\u001b[49m\u001b[43mX_train_scaled\u001b[49m\u001b[43m,\u001b[49m\u001b[43m \u001b[49m\u001b[43my_train\u001b[49m\u001b[43m)\u001b[49m\n\u001b[1;32m     17\u001b[0m undersampler \u001b[38;5;241m=\u001b[39m RandomUnderSampler(sampling_strategy\u001b[38;5;241m=\u001b[39m\u001b[38;5;241m1\u001b[39m)\n\u001b[1;32m     18\u001b[0m X_smote, y_smote \u001b[38;5;241m=\u001b[39m undersampler\u001b[38;5;241m.\u001b[39mfit_resample(X_smote, y_smote)\n",
      "File \u001b[0;32m/usr/local/Caskroom/miniconda/base/envs/leoenv/lib/python3.10/site-packages/imblearn/base.py:203\u001b[0m, in \u001b[0;36mBaseSampler.fit_resample\u001b[0;34m(self, X, y)\u001b[0m\n\u001b[1;32m    182\u001b[0m \u001b[38;5;124;03m\"\"\"Resample the dataset.\u001b[39;00m\n\u001b[1;32m    183\u001b[0m \n\u001b[1;32m    184\u001b[0m \u001b[38;5;124;03mParameters\u001b[39;00m\n\u001b[0;32m   (...)\u001b[0m\n\u001b[1;32m    200\u001b[0m \u001b[38;5;124;03m    The corresponding label of `X_resampled`.\u001b[39;00m\n\u001b[1;32m    201\u001b[0m \u001b[38;5;124;03m\"\"\"\u001b[39;00m\n\u001b[1;32m    202\u001b[0m \u001b[38;5;28mself\u001b[39m\u001b[38;5;241m.\u001b[39m_validate_params()\n\u001b[0;32m--> 203\u001b[0m \u001b[38;5;28;01mreturn\u001b[39;00m \u001b[38;5;28;43msuper\u001b[39;49m\u001b[43m(\u001b[49m\u001b[43m)\u001b[49m\u001b[38;5;241;43m.\u001b[39;49m\u001b[43mfit_resample\u001b[49m\u001b[43m(\u001b[49m\u001b[43mX\u001b[49m\u001b[43m,\u001b[49m\u001b[43m \u001b[49m\u001b[43my\u001b[49m\u001b[43m)\u001b[49m\n",
      "File \u001b[0;32m/usr/local/Caskroom/miniconda/base/envs/leoenv/lib/python3.10/site-packages/imblearn/base.py:88\u001b[0m, in \u001b[0;36mSamplerMixin.fit_resample\u001b[0;34m(self, X, y)\u001b[0m\n\u001b[1;32m     82\u001b[0m X, y, binarize_y \u001b[38;5;241m=\u001b[39m \u001b[38;5;28mself\u001b[39m\u001b[38;5;241m.\u001b[39m_check_X_y(X, y)\n\u001b[1;32m     84\u001b[0m \u001b[38;5;28mself\u001b[39m\u001b[38;5;241m.\u001b[39msampling_strategy_ \u001b[38;5;241m=\u001b[39m check_sampling_strategy(\n\u001b[1;32m     85\u001b[0m     \u001b[38;5;28mself\u001b[39m\u001b[38;5;241m.\u001b[39msampling_strategy, y, \u001b[38;5;28mself\u001b[39m\u001b[38;5;241m.\u001b[39m_sampling_type\n\u001b[1;32m     86\u001b[0m )\n\u001b[0;32m---> 88\u001b[0m output \u001b[38;5;241m=\u001b[39m \u001b[38;5;28;43mself\u001b[39;49m\u001b[38;5;241;43m.\u001b[39;49m\u001b[43m_fit_resample\u001b[49m\u001b[43m(\u001b[49m\u001b[43mX\u001b[49m\u001b[43m,\u001b[49m\u001b[43m \u001b[49m\u001b[43my\u001b[49m\u001b[43m)\u001b[49m\n\u001b[1;32m     90\u001b[0m y_ \u001b[38;5;241m=\u001b[39m (\n\u001b[1;32m     91\u001b[0m     label_binarize(output[\u001b[38;5;241m1\u001b[39m], classes\u001b[38;5;241m=\u001b[39mnp\u001b[38;5;241m.\u001b[39munique(y)) \u001b[38;5;28;01mif\u001b[39;00m binarize_y \u001b[38;5;28;01melse\u001b[39;00m output[\u001b[38;5;241m1\u001b[39m]\n\u001b[1;32m     92\u001b[0m )\n\u001b[1;32m     94\u001b[0m X_, y_ \u001b[38;5;241m=\u001b[39m arrays_transformer\u001b[38;5;241m.\u001b[39mtransform(output[\u001b[38;5;241m0\u001b[39m], y_)\n",
      "File \u001b[0;32m/usr/local/Caskroom/miniconda/base/envs/leoenv/lib/python3.10/site-packages/imblearn/over_sampling/_smote/base.py:580\u001b[0m, in \u001b[0;36mSMOTENC._fit_resample\u001b[0;34m(self, X, y)\u001b[0m\n\u001b[1;32m    572\u001b[0m     warnings\u001b[38;5;241m.\u001b[39mwarn(\n\u001b[1;32m    573\u001b[0m         \u001b[38;5;124m\"\u001b[39m\u001b[38;5;124mThe parameter `n_jobs` has been deprecated in 0.10 and will be \u001b[39m\u001b[38;5;124m\"\u001b[39m\n\u001b[1;32m    574\u001b[0m         \u001b[38;5;124m\"\u001b[39m\u001b[38;5;124mremoved in 0.12. You can pass an nearest neighbors estimator where \u001b[39m\u001b[38;5;124m\"\u001b[39m\n\u001b[1;32m    575\u001b[0m         \u001b[38;5;124m\"\u001b[39m\u001b[38;5;124m`n_jobs` is already set instead.\u001b[39m\u001b[38;5;124m\"\u001b[39m,\n\u001b[1;32m    576\u001b[0m         \u001b[38;5;167;01mFutureWarning\u001b[39;00m,\n\u001b[1;32m    577\u001b[0m     )\n\u001b[1;32m    579\u001b[0m \u001b[38;5;28mself\u001b[39m\u001b[38;5;241m.\u001b[39mn_features_ \u001b[38;5;241m=\u001b[39m X\u001b[38;5;241m.\u001b[39mshape[\u001b[38;5;241m1\u001b[39m]\n\u001b[0;32m--> 580\u001b[0m \u001b[38;5;28;43mself\u001b[39;49m\u001b[38;5;241;43m.\u001b[39;49m\u001b[43m_validate_estimator\u001b[49m\u001b[43m(\u001b[49m\u001b[43m)\u001b[49m\n\u001b[1;32m    582\u001b[0m \u001b[38;5;66;03m# compute the median of the standard deviation of the minority class\u001b[39;00m\n\u001b[1;32m    583\u001b[0m target_stats \u001b[38;5;241m=\u001b[39m Counter(y)\n",
      "File \u001b[0;32m/usr/local/Caskroom/miniconda/base/envs/leoenv/lib/python3.10/site-packages/imblearn/over_sampling/_smote/base.py:554\u001b[0m, in \u001b[0;36mSMOTENC._validate_estimator\u001b[0;34m(self)\u001b[0m\n\u001b[1;32m    550\u001b[0m \u001b[38;5;28;01melse\u001b[39;00m:\n\u001b[1;32m    551\u001b[0m     \u001b[38;5;28;01mif\u001b[39;00m \u001b[38;5;28many\u001b[39m(\n\u001b[1;32m    552\u001b[0m         [cat \u001b[38;5;129;01mnot\u001b[39;00m \u001b[38;5;129;01min\u001b[39;00m np\u001b[38;5;241m.\u001b[39marange(\u001b[38;5;28mself\u001b[39m\u001b[38;5;241m.\u001b[39mn_features_) \u001b[38;5;28;01mfor\u001b[39;00m cat \u001b[38;5;129;01min\u001b[39;00m categorical_features]\n\u001b[1;32m    553\u001b[0m     ):\n\u001b[0;32m--> 554\u001b[0m         \u001b[38;5;28;01mraise\u001b[39;00m \u001b[38;5;167;01mValueError\u001b[39;00m(\n\u001b[1;32m    555\u001b[0m             \u001b[38;5;124mf\u001b[39m\u001b[38;5;124m\"\u001b[39m\u001b[38;5;124mSome of the categorical indices are out of range. Indices\u001b[39m\u001b[38;5;124m\"\u001b[39m\n\u001b[1;32m    556\u001b[0m             \u001b[38;5;124mf\u001b[39m\u001b[38;5;124m\"\u001b[39m\u001b[38;5;124m should be between 0 and \u001b[39m\u001b[38;5;132;01m{\u001b[39;00m\u001b[38;5;28mself\u001b[39m\u001b[38;5;241m.\u001b[39mn_features_ \u001b[38;5;241m-\u001b[39m \u001b[38;5;241m1\u001b[39m\u001b[38;5;132;01m}\u001b[39;00m\u001b[38;5;124m\"\u001b[39m\n\u001b[1;32m    557\u001b[0m         )\n\u001b[1;32m    558\u001b[0m     \u001b[38;5;28mself\u001b[39m\u001b[38;5;241m.\u001b[39mcategorical_features_ \u001b[38;5;241m=\u001b[39m categorical_features\n\u001b[1;32m    559\u001b[0m \u001b[38;5;28mself\u001b[39m\u001b[38;5;241m.\u001b[39mcontinuous_features_ \u001b[38;5;241m=\u001b[39m np\u001b[38;5;241m.\u001b[39msetdiff1d(\n\u001b[1;32m    560\u001b[0m     np\u001b[38;5;241m.\u001b[39marange(\u001b[38;5;28mself\u001b[39m\u001b[38;5;241m.\u001b[39mn_features_), \u001b[38;5;28mself\u001b[39m\u001b[38;5;241m.\u001b[39mcategorical_features_\n\u001b[1;32m    561\u001b[0m )\n",
      "\u001b[0;31mValueError\u001b[0m: Some of the categorical indices are out of range. Indices should be between 0 and 50"
     ]
    }
   ],
   "source": [
    "from imblearn.over_sampling import SMOTENC\n",
    "from sklearn.preprocessing import StandardScaler\n",
    "\n",
    "smote = SMOTENC(sampling_strategy=0.4,\n",
    "                categorical_features=employee_data.columns.get_indexer(employee_data.loc[:, employee_data.columns != 'Attrition'].columns))\n",
    "scaler = StandardScaler()\n",
    "X_train_scaled = pd.DataFrame(scaler.fit_transform(X_train))\n",
    "X_train_scaled.index = X_train.index\n",
    "X_train_scaled.columns = X_train.columns\n",
    "\n",
    "X_test_scaled = pd.DataFrame(scaler.transform(X_test))\n",
    "X_test_scaled.index = X_test.index\n",
    "X_test_scaled.columns = X_test.columns\n",
    "\n",
    "X_smote, y_smote = smote.fit_resample(X_train_scaled, y_train)\n",
    "\n",
    "undersampler = RandomUnderSampler(sampling_strategy=1)\n",
    "X_smote, y_smote = undersampler.fit_resample(X_smote, y_smote)\n",
    "y_smote.value_counts()\n",
    "\n",
    "rf_model = RandomForestClassifier()\n",
    "rf_model.fit(X_smote, y_smote)\n",
    "y_pred = rf_model.predict(X_test_scaled)\n",
    "\n",
    "print('Accuracy: {:.2%}'.format(metrics.accuracy_score(y_test, y_pred)))\n",
    "print('Precision: {:.2%}'.format(metrics.precision_score(y_test, y_pred)))\n",
    "print('Recall: {:.2%}'.format(metrics.recall_score(y_test, y_pred)))\n",
    "print('F1: {:.2%}'.format(metrics.f1_score(y_test, y_pred)))"
   ]
  },
  {
   "cell_type": "code",
   "execution_count": 81,
   "metadata": {},
   "outputs": [
    {
     "data": {
      "text/plain": [
       "<AxesSubplot: >"
      ]
     },
     "execution_count": 81,
     "metadata": {},
     "output_type": "execute_result"
    },
    {
     "data": {
      "image/png": "[encoded data removed]",
      "text/plain": [
       "<Figure size 640x480 with 1 Axes>"
      ]
     },
     "metadata": {},
     "output_type": "display_data"
    }
   ],
   "source": [
    "feature_importances = pd.Series(rf_model.feature_importances_, index=employee_data.loc[:, employee_data.columns != 'Attrition'].columns[:])\n",
    "feature_importances.sort_values(ascending=False)\n",
    "feature_importances.nlargest(20).plot(kind='bar')"
   ]
  }
 ],
 "metadata": {
  "kernelspec": {
   "display_name": "Python 3 (ipykernel)",
   "language": "python",
   "name": "python3"
  },
  "language_info": {
   "codemirror_mode": {
    "name": "ipython",
    "version": 3
   },
   "file_extension": ".py",
   "mimetype": "text/x-python",
   "name": "python",
   "nbconvert_exporter": "python",
   "pygments_lexer": "ipython3",
   "version": "3.10.6"
  }
 },
 "nbformat": 4,
 "nbformat_minor": 1
}
