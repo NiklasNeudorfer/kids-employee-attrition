{
 "cells": [
  {
   "cell_type": "markdown",
   "source": [
    "# Employee Attrition - Data Exploration"
   ],
   "metadata": {
    "collapsed": false
   }
  },
  {
   "cell_type": "markdown",
   "source": [
    "## Members\n",
    "\n",
    "* Aichinger Niklas\n",
    "* Ablinger Raphael\n",
    "* Neudorfer Niklas"
   ],
   "metadata": {
    "collapsed": false
   }
  },
  {
   "cell_type": "code",
   "execution_count": 163,
   "outputs": [],
   "source": [
    "import pandas as pd\n",
    "\n",
    "employeeAttrtion = pd.read_csv(\"data/input/employee_attrition.csv\")"
   ],
   "metadata": {
    "collapsed": false
   }
  },
  {
   "cell_type": "code",
   "execution_count": 164,
   "outputs": [
    {
     "data": {
      "text/plain": "      Age Attrition     BusinessTravel  DailyRate              Department  \\\n465    46        No  Travel_Frequently       1034  Research & Development   \n1185   43        No      Travel_Rarely       1291  Research & Development   \n1017   27        No      Travel_Rarely       1377  Research & Development   \n401    56        No  Travel_Frequently        906                   Sales   \n587    52        No      Travel_Rarely       1325  Research & Development   \n553    40        No      Travel_Rarely        804  Research & Development   \n612    28        No      Travel_Rarely        760                   Sales   \n230    52        No      Travel_Rarely       1323  Research & Development   \n142    38        No      Travel_Rarely        364  Research & Development   \n700    58       Yes      Travel_Rarely        289  Research & Development   \n\n      DistanceFromHome  Education    EducationField  EmployeeCount  \\\n465                 18          1           Medical              1   \n1185                15          2     Life Sciences              1   \n1017                11          1     Life Sciences              1   \n401                  6          3     Life Sciences              1   \n587                 11          4     Life Sciences              1   \n553                  2          1           Medical              1   \n612                  2          4         Marketing              1   \n230                  2          3     Life Sciences              1   \n142                  3          5  Technical Degree              1   \n700                  2          3  Technical Degree              1   \n\n      EmployeeNumber  ...  RelationshipSatisfaction StandardHours  \\\n465              624  ...                         4            80   \n1185            1666  ...                         1            80   \n1017            1434  ...                         2            80   \n401              532  ...                         4            80   \n587              813  ...                         2            80   \n553              763  ...                         4            80   \n612              846  ...                         1            80   \n230              316  ...                         2            80   \n142              193  ...                         2            80   \n700              977  ...                         1            80   \n\n      StockOptionLevel  TotalWorkingYears  TrainingTimesLastYear  \\\n465                  0                 28                      3   \n1185                 1                 14                      3   \n1017                 0                  6                      3   \n401                  3                 36                      0   \n587                  1                  9                      3   \n553                  0                  5                      2   \n612                  0                  8                      2   \n230                  0                  6                      3   \n142                  0                 19                      2   \n700                  0                  7                      4   \n\n     WorkLifeBalance  YearsAtCompany YearsInCurrentRole  \\\n465                2               2                  2   \n1185               3              14                 10   \n1017               4               5                  0   \n401                2               7                  7   \n587                3               5                  2   \n553                2               4                  2   \n612                3               8                  7   \n230                2               2                  2   \n142                3               3                  2   \n700                3               1                  0   \n\n      YearsSinceLastPromotion  YearsWithCurrManager  \n465                         1                     2  \n1185                        6                    11  \n1017                        1                     4  \n401                         7                     7  \n587                         1                     4  \n553                         2                     3  \n612                         7                     5  \n230                         2                     2  \n142                         2                     2  \n700                         0                     0  \n\n[10 rows x 35 columns]",
      "text/html": "<div>\n<style scoped>\n    .dataframe tbody tr th:only-of-type {\n        vertical-align: middle;\n    }\n\n    .dataframe tbody tr th {\n        vertical-align: top;\n    }\n\n    .dataframe thead th {\n        text-align: right;\n    }\n</style>\n<table border=\"1\" class=\"dataframe\">\n  <thead>\n    <tr style=\"text-align: right;\">\n      <th></th>\n      <th>Age</th>\n      <th>Attrition</th>\n      <th>BusinessTravel</th>\n      <th>DailyRate</th>\n      <th>Department</th>\n      <th>DistanceFromHome</th>\n      <th>Education</th>\n      <th>EducationField</th>\n      <th>EmployeeCount</th>\n      <th>EmployeeNumber</th>\n      <th>...</th>\n      <th>RelationshipSatisfaction</th>\n      <th>StandardHours</th>\n      <th>StockOptionLevel</th>\n      <th>TotalWorkingYears</th>\n      <th>TrainingTimesLastYear</th>\n      <th>WorkLifeBalance</th>\n      <th>YearsAtCompany</th>\n      <th>YearsInCurrentRole</th>\n      <th>YearsSinceLastPromotion</th>\n      <th>YearsWithCurrManager</th>\n    </tr>\n  </thead>\n  <tbody>\n    <tr>\n      <th>465</th>\n      <td>46</td>\n      <td>No</td>\n      <td>Travel_Frequently</td>\n      <td>1034</td>\n      <td>Research &amp; Development</td>\n      <td>18</td>\n      <td>1</td>\n      <td>Medical</td>\n      <td>1</td>\n      <td>624</td>\n      <td>...</td>\n      <td>4</td>\n      <td>80</td>\n      <td>0</td>\n      <td>28</td>\n      <td>3</td>\n      <td>2</td>\n      <td>2</td>\n      <td>2</td>\n      <td>1</td>\n      <td>2</td>\n    </tr>\n    <tr>\n      <th>1185</th>\n      <td>43</td>\n      <td>No</td>\n      <td>Travel_Rarely</td>\n      <td>1291</td>\n      <td>Research &amp; Development</td>\n      <td>15</td>\n      <td>2</td>\n      <td>Life Sciences</td>\n      <td>1</td>\n      <td>1666</td>\n      <td>...</td>\n      <td>1</td>\n      <td>80</td>\n      <td>1</td>\n      <td>14</td>\n      <td>3</td>\n      <td>3</td>\n      <td>14</td>\n      <td>10</td>\n      <td>6</td>\n      <td>11</td>\n    </tr>\n    <tr>\n      <th>1017</th>\n      <td>27</td>\n      <td>No</td>\n      <td>Travel_Rarely</td>\n      <td>1377</td>\n      <td>Research &amp; Development</td>\n      <td>11</td>\n      <td>1</td>\n      <td>Life Sciences</td>\n      <td>1</td>\n      <td>1434</td>\n      <td>...</td>\n      <td>2</td>\n      <td>80</td>\n      <td>0</td>\n      <td>6</td>\n      <td>3</td>\n      <td>4</td>\n      <td>5</td>\n      <td>0</td>\n      <td>1</td>\n      <td>4</td>\n    </tr>\n    <tr>\n      <th>401</th>\n      <td>56</td>\n      <td>No</td>\n      <td>Travel_Frequently</td>\n      <td>906</td>\n      <td>Sales</td>\n      <td>6</td>\n      <td>3</td>\n      <td>Life Sciences</td>\n      <td>1</td>\n      <td>532</td>\n      <td>...</td>\n      <td>4</td>\n      <td>80</td>\n      <td>3</td>\n      <td>36</td>\n      <td>0</td>\n      <td>2</td>\n      <td>7</td>\n      <td>7</td>\n      <td>7</td>\n      <td>7</td>\n    </tr>\n    <tr>\n      <th>587</th>\n      <td>52</td>\n      <td>No</td>\n      <td>Travel_Rarely</td>\n      <td>1325</td>\n      <td>Research &amp; Development</td>\n      <td>11</td>\n      <td>4</td>\n      <td>Life Sciences</td>\n      <td>1</td>\n      <td>813</td>\n      <td>...</td>\n      <td>2</td>\n      <td>80</td>\n      <td>1</td>\n      <td>9</td>\n      <td>3</td>\n      <td>3</td>\n      <td>5</td>\n      <td>2</td>\n      <td>1</td>\n      <td>4</td>\n    </tr>\n    <tr>\n      <th>553</th>\n      <td>40</td>\n      <td>No</td>\n      <td>Travel_Rarely</td>\n      <td>804</td>\n      <td>Research &amp; Development</td>\n      <td>2</td>\n      <td>1</td>\n      <td>Medical</td>\n      <td>1</td>\n      <td>763</td>\n      <td>...</td>\n      <td>4</td>\n      <td>80</td>\n      <td>0</td>\n      <td>5</td>\n      <td>2</td>\n      <td>2</td>\n      <td>4</td>\n      <td>2</td>\n      <td>2</td>\n      <td>3</td>\n    </tr>\n    <tr>\n      <th>612</th>\n      <td>28</td>\n      <td>No</td>\n      <td>Travel_Rarely</td>\n      <td>760</td>\n      <td>Sales</td>\n      <td>2</td>\n      <td>4</td>\n      <td>Marketing</td>\n      <td>1</td>\n      <td>846</td>\n      <td>...</td>\n      <td>1</td>\n      <td>80</td>\n      <td>0</td>\n      <td>8</td>\n      <td>2</td>\n      <td>3</td>\n      <td>8</td>\n      <td>7</td>\n      <td>7</td>\n      <td>5</td>\n    </tr>\n    <tr>\n      <th>230</th>\n      <td>52</td>\n      <td>No</td>\n      <td>Travel_Rarely</td>\n      <td>1323</td>\n      <td>Research &amp; Development</td>\n      <td>2</td>\n      <td>3</td>\n      <td>Life Sciences</td>\n      <td>1</td>\n      <td>316</td>\n      <td>...</td>\n      <td>2</td>\n      <td>80</td>\n      <td>0</td>\n      <td>6</td>\n      <td>3</td>\n      <td>2</td>\n      <td>2</td>\n      <td>2</td>\n      <td>2</td>\n      <td>2</td>\n    </tr>\n    <tr>\n      <th>142</th>\n      <td>38</td>\n      <td>No</td>\n      <td>Travel_Rarely</td>\n      <td>364</td>\n      <td>Research &amp; Development</td>\n      <td>3</td>\n      <td>5</td>\n      <td>Technical Degree</td>\n      <td>1</td>\n      <td>193</td>\n      <td>...</td>\n      <td>2</td>\n      <td>80</td>\n      <td>0</td>\n      <td>19</td>\n      <td>2</td>\n      <td>3</td>\n      <td>3</td>\n      <td>2</td>\n      <td>2</td>\n      <td>2</td>\n    </tr>\n    <tr>\n      <th>700</th>\n      <td>58</td>\n      <td>Yes</td>\n      <td>Travel_Rarely</td>\n      <td>289</td>\n      <td>Research &amp; Development</td>\n      <td>2</td>\n      <td>3</td>\n      <td>Technical Degree</td>\n      <td>1</td>\n      <td>977</td>\n      <td>...</td>\n      <td>1</td>\n      <td>80</td>\n      <td>0</td>\n      <td>7</td>\n      <td>4</td>\n      <td>3</td>\n      <td>1</td>\n      <td>0</td>\n      <td>0</td>\n      <td>0</td>\n    </tr>\n  </tbody>\n</table>\n<p>10 rows × 35 columns</p>\n</div>"
     },
     "execution_count": 164,
     "metadata": {},
     "output_type": "execute_result"
    }
   ],
   "source": [
    "employeeAttrtion.sample(10)"
   ],
   "metadata": {
    "collapsed": false
   }
  },
  {
   "cell_type": "code",
   "execution_count": 165,
   "outputs": [
    {
     "name": "stdout",
     "output_type": "stream",
     "text": [
      "<class 'pandas.core.frame.DataFrame'>\n",
      "RangeIndex: 1470 entries, 0 to 1469\n",
      "Data columns (total 35 columns):\n",
      " #   Column                    Non-Null Count  Dtype \n",
      "---  ------                    --------------  ----- \n",
      " 0   Age                       1470 non-null   int64 \n",
      " 1   Attrition                 1470 non-null   object\n",
      " 2   BusinessTravel            1470 non-null   object\n",
      " 3   DailyRate                 1470 non-null   int64 \n",
      " 4   Department                1470 non-null   object\n",
      " 5   DistanceFromHome          1470 non-null   int64 \n",
      " 6   Education                 1470 non-null   int64 \n",
      " 7   EducationField            1470 non-null   object\n",
      " 8   EmployeeCount             1470 non-null   int64 \n",
      " 9   EmployeeNumber            1470 non-null   int64 \n",
      " 10  EnvironmentSatisfaction   1470 non-null   int64 \n",
      " 11  Gender                    1470 non-null   object\n",
      " 12  HourlyRate                1470 non-null   int64 \n",
      " 13  JobInvolvement            1470 non-null   int64 \n",
      " 14  JobLevel                  1470 non-null   int64 \n",
      " 15  JobRole                   1470 non-null   object\n",
      " 16  JobSatisfaction           1470 non-null   int64 \n",
      " 17  MaritalStatus             1470 non-null   object\n",
      " 18  MonthlyIncome             1470 non-null   int64 \n",
      " 19  MonthlyRate               1470 non-null   int64 \n",
      " 20  NumCompaniesWorked        1470 non-null   int64 \n",
      " 21  Over18                    1470 non-null   object\n",
      " 22  OverTime                  1470 non-null   object\n",
      " 23  PercentSalaryHike         1470 non-null   int64 \n",
      " 24  PerformanceRating         1470 non-null   int64 \n",
      " 25  RelationshipSatisfaction  1470 non-null   int64 \n",
      " 26  StandardHours             1470 non-null   int64 \n",
      " 27  StockOptionLevel          1470 non-null   int64 \n",
      " 28  TotalWorkingYears         1470 non-null   int64 \n",
      " 29  TrainingTimesLastYear     1470 non-null   int64 \n",
      " 30  WorkLifeBalance           1470 non-null   int64 \n",
      " 31  YearsAtCompany            1470 non-null   int64 \n",
      " 32  YearsInCurrentRole        1470 non-null   int64 \n",
      " 33  YearsSinceLastPromotion   1470 non-null   int64 \n",
      " 34  YearsWithCurrManager      1470 non-null   int64 \n",
      "dtypes: int64(26), object(9)\n",
      "memory usage: 402.1+ KB\n"
     ]
    }
   ],
   "source": [
    "employeeAttrtion.info()\n"
   ],
   "metadata": {
    "collapsed": false
   }
  },
  {
   "cell_type": "code",
   "execution_count": 166,
   "outputs": [
    {
     "data": {
      "text/plain": "               Age    DailyRate  DistanceFromHome    Education  EmployeeCount  \\\ncount  1470.000000  1470.000000       1470.000000  1470.000000         1470.0   \nmean     36.923810   802.485714          9.192517     2.912925            1.0   \nstd       9.135373   403.509100          8.106864     1.024165            0.0   \nmin      18.000000   102.000000          1.000000     1.000000            1.0   \n25%      30.000000   465.000000          2.000000     2.000000            1.0   \n50%      36.000000   802.000000          7.000000     3.000000            1.0   \n75%      43.000000  1157.000000         14.000000     4.000000            1.0   \nmax      60.000000  1499.000000         29.000000     5.000000            1.0   \n\n       EmployeeNumber  EnvironmentSatisfaction   HourlyRate  JobInvolvement  \\\ncount     1470.000000              1470.000000  1470.000000     1470.000000   \nmean      1024.865306                 2.721769    65.891156        2.729932   \nstd        602.024335                 1.093082    20.329428        0.711561   \nmin          1.000000                 1.000000    30.000000        1.000000   \n25%        491.250000                 2.000000    48.000000        2.000000   \n50%       1020.500000                 3.000000    66.000000        3.000000   \n75%       1555.750000                 4.000000    83.750000        3.000000   \nmax       2068.000000                 4.000000   100.000000        4.000000   \n\n          JobLevel  ...  RelationshipSatisfaction  StandardHours  \\\ncount  1470.000000  ...               1470.000000         1470.0   \nmean      2.063946  ...                  2.712245           80.0   \nstd       1.106940  ...                  1.081209            0.0   \nmin       1.000000  ...                  1.000000           80.0   \n25%       1.000000  ...                  2.000000           80.0   \n50%       2.000000  ...                  3.000000           80.0   \n75%       3.000000  ...                  4.000000           80.0   \nmax       5.000000  ...                  4.000000           80.0   \n\n       StockOptionLevel  TotalWorkingYears  TrainingTimesLastYear  \\\ncount       1470.000000        1470.000000            1470.000000   \nmean           0.793878          11.279592               2.799320   \nstd            0.852077           7.780782               1.289271   \nmin            0.000000           0.000000               0.000000   \n25%            0.000000           6.000000               2.000000   \n50%            1.000000          10.000000               3.000000   \n75%            1.000000          15.000000               3.000000   \nmax            3.000000          40.000000               6.000000   \n\n       WorkLifeBalance  YearsAtCompany  YearsInCurrentRole  \\\ncount      1470.000000     1470.000000         1470.000000   \nmean          2.761224        7.008163            4.229252   \nstd           0.706476        6.126525            3.623137   \nmin           1.000000        0.000000            0.000000   \n25%           2.000000        3.000000            2.000000   \n50%           3.000000        5.000000            3.000000   \n75%           3.000000        9.000000            7.000000   \nmax           4.000000       40.000000           18.000000   \n\n       YearsSinceLastPromotion  YearsWithCurrManager  \ncount              1470.000000           1470.000000  \nmean                  2.187755              4.123129  \nstd                   3.222430              3.568136  \nmin                   0.000000              0.000000  \n25%                   0.000000              2.000000  \n50%                   1.000000              3.000000  \n75%                   3.000000              7.000000  \nmax                  15.000000             17.000000  \n\n[8 rows x 26 columns]",
      "text/html": "<div>\n<style scoped>\n    .dataframe tbody tr th:only-of-type {\n        vertical-align: middle;\n    }\n\n    .dataframe tbody tr th {\n        vertical-align: top;\n    }\n\n    .dataframe thead th {\n        text-align: right;\n    }\n</style>\n<table border=\"1\" class=\"dataframe\">\n  <thead>\n    <tr style=\"text-align: right;\">\n      <th></th>\n      <th>Age</th>\n      <th>DailyRate</th>\n      <th>DistanceFromHome</th>\n      <th>Education</th>\n      <th>EmployeeCount</th>\n      <th>EmployeeNumber</th>\n      <th>EnvironmentSatisfaction</th>\n      <th>HourlyRate</th>\n      <th>JobInvolvement</th>\n      <th>JobLevel</th>\n      <th>...</th>\n      <th>RelationshipSatisfaction</th>\n      <th>StandardHours</th>\n      <th>StockOptionLevel</th>\n      <th>TotalWorkingYears</th>\n      <th>TrainingTimesLastYear</th>\n      <th>WorkLifeBalance</th>\n      <th>YearsAtCompany</th>\n      <th>YearsInCurrentRole</th>\n      <th>YearsSinceLastPromotion</th>\n      <th>YearsWithCurrManager</th>\n    </tr>\n  </thead>\n  <tbody>\n    <tr>\n      <th>count</th>\n      <td>1470.000000</td>\n      <td>1470.000000</td>\n      <td>1470.000000</td>\n      <td>1470.000000</td>\n      <td>1470.0</td>\n      <td>1470.000000</td>\n      <td>1470.000000</td>\n      <td>1470.000000</td>\n      <td>1470.000000</td>\n      <td>1470.000000</td>\n      <td>...</td>\n      <td>1470.000000</td>\n      <td>1470.0</td>\n      <td>1470.000000</td>\n      <td>1470.000000</td>\n      <td>1470.000000</td>\n      <td>1470.000000</td>\n      <td>1470.000000</td>\n      <td>1470.000000</td>\n      <td>1470.000000</td>\n      <td>1470.000000</td>\n    </tr>\n    <tr>\n      <th>mean</th>\n      <td>36.923810</td>\n      <td>802.485714</td>\n      <td>9.192517</td>\n      <td>2.912925</td>\n      <td>1.0</td>\n      <td>1024.865306</td>\n      <td>2.721769</td>\n      <td>65.891156</td>\n      <td>2.729932</td>\n      <td>2.063946</td>\n      <td>...</td>\n      <td>2.712245</td>\n      <td>80.0</td>\n      <td>0.793878</td>\n      <td>11.279592</td>\n      <td>2.799320</td>\n      <td>2.761224</td>\n      <td>7.008163</td>\n      <td>4.229252</td>\n      <td>2.187755</td>\n      <td>4.123129</td>\n    </tr>\n    <tr>\n      <th>std</th>\n      <td>9.135373</td>\n      <td>403.509100</td>\n      <td>8.106864</td>\n      <td>1.024165</td>\n      <td>0.0</td>\n      <td>602.024335</td>\n      <td>1.093082</td>\n      <td>20.329428</td>\n      <td>0.711561</td>\n      <td>1.106940</td>\n      <td>...</td>\n      <td>1.081209</td>\n      <td>0.0</td>\n      <td>0.852077</td>\n      <td>7.780782</td>\n      <td>1.289271</td>\n      <td>0.706476</td>\n      <td>6.126525</td>\n      <td>3.623137</td>\n      <td>3.222430</td>\n      <td>3.568136</td>\n    </tr>\n    <tr>\n      <th>min</th>\n      <td>18.000000</td>\n      <td>102.000000</td>\n      <td>1.000000</td>\n      <td>1.000000</td>\n      <td>1.0</td>\n      <td>1.000000</td>\n      <td>1.000000</td>\n      <td>30.000000</td>\n      <td>1.000000</td>\n      <td>1.000000</td>\n      <td>...</td>\n      <td>1.000000</td>\n      <td>80.0</td>\n      <td>0.000000</td>\n      <td>0.000000</td>\n      <td>0.000000</td>\n      <td>1.000000</td>\n      <td>0.000000</td>\n      <td>0.000000</td>\n      <td>0.000000</td>\n      <td>0.000000</td>\n    </tr>\n    <tr>\n      <th>25%</th>\n      <td>30.000000</td>\n      <td>465.000000</td>\n      <td>2.000000</td>\n      <td>2.000000</td>\n      <td>1.0</td>\n      <td>491.250000</td>\n      <td>2.000000</td>\n      <td>48.000000</td>\n      <td>2.000000</td>\n      <td>1.000000</td>\n      <td>...</td>\n      <td>2.000000</td>\n      <td>80.0</td>\n      <td>0.000000</td>\n      <td>6.000000</td>\n      <td>2.000000</td>\n      <td>2.000000</td>\n      <td>3.000000</td>\n      <td>2.000000</td>\n      <td>0.000000</td>\n      <td>2.000000</td>\n    </tr>\n    <tr>\n      <th>50%</th>\n      <td>36.000000</td>\n      <td>802.000000</td>\n      <td>7.000000</td>\n      <td>3.000000</td>\n      <td>1.0</td>\n      <td>1020.500000</td>\n      <td>3.000000</td>\n      <td>66.000000</td>\n      <td>3.000000</td>\n      <td>2.000000</td>\n      <td>...</td>\n      <td>3.000000</td>\n      <td>80.0</td>\n      <td>1.000000</td>\n      <td>10.000000</td>\n      <td>3.000000</td>\n      <td>3.000000</td>\n      <td>5.000000</td>\n      <td>3.000000</td>\n      <td>1.000000</td>\n      <td>3.000000</td>\n    </tr>\n    <tr>\n      <th>75%</th>\n      <td>43.000000</td>\n      <td>1157.000000</td>\n      <td>14.000000</td>\n      <td>4.000000</td>\n      <td>1.0</td>\n      <td>1555.750000</td>\n      <td>4.000000</td>\n      <td>83.750000</td>\n      <td>3.000000</td>\n      <td>3.000000</td>\n      <td>...</td>\n      <td>4.000000</td>\n      <td>80.0</td>\n      <td>1.000000</td>\n      <td>15.000000</td>\n      <td>3.000000</td>\n      <td>3.000000</td>\n      <td>9.000000</td>\n      <td>7.000000</td>\n      <td>3.000000</td>\n      <td>7.000000</td>\n    </tr>\n    <tr>\n      <th>max</th>\n      <td>60.000000</td>\n      <td>1499.000000</td>\n      <td>29.000000</td>\n      <td>5.000000</td>\n      <td>1.0</td>\n      <td>2068.000000</td>\n      <td>4.000000</td>\n      <td>100.000000</td>\n      <td>4.000000</td>\n      <td>5.000000</td>\n      <td>...</td>\n      <td>4.000000</td>\n      <td>80.0</td>\n      <td>3.000000</td>\n      <td>40.000000</td>\n      <td>6.000000</td>\n      <td>4.000000</td>\n      <td>40.000000</td>\n      <td>18.000000</td>\n      <td>15.000000</td>\n      <td>17.000000</td>\n    </tr>\n  </tbody>\n</table>\n<p>8 rows × 26 columns</p>\n</div>"
     },
     "execution_count": 166,
     "metadata": {},
     "output_type": "execute_result"
    }
   ],
   "source": [
    "employeeAttrtion.describe()\n"
   ],
   "metadata": {
    "collapsed": false
   }
  },
  {
   "cell_type": "code",
   "execution_count": 167,
   "outputs": [
    {
     "data": {
      "text/plain": "Age                         0\nAttrition                   0\nBusinessTravel              0\nDailyRate                   0\nDepartment                  0\nDistanceFromHome            0\nEducation                   0\nEducationField              0\nEmployeeCount               0\nEmployeeNumber              0\nEnvironmentSatisfaction     0\nGender                      0\nHourlyRate                  0\nJobInvolvement              0\nJobLevel                    0\nJobRole                     0\nJobSatisfaction             0\nMaritalStatus               0\nMonthlyIncome               0\nMonthlyRate                 0\nNumCompaniesWorked          0\nOver18                      0\nOverTime                    0\nPercentSalaryHike           0\nPerformanceRating           0\nRelationshipSatisfaction    0\nStandardHours               0\nStockOptionLevel            0\nTotalWorkingYears           0\nTrainingTimesLastYear       0\nWorkLifeBalance             0\nYearsAtCompany              0\nYearsInCurrentRole          0\nYearsSinceLastPromotion     0\nYearsWithCurrManager        0\ndtype: int64"
     },
     "execution_count": 167,
     "metadata": {},
     "output_type": "execute_result"
    }
   ],
   "source": [
    "employeeAttrtion.isnull().sum()"
   ],
   "metadata": {
    "collapsed": false
   }
  },
  {
   "cell_type": "code",
   "execution_count": 168,
   "outputs": [
    {
     "data": {
      "text/plain": "Age                          int64\nAttrition                   object\nBusinessTravel              object\nDailyRate                    int64\nDepartment                  object\nDistanceFromHome             int64\nEducation                    int64\nEducationField              object\nEmployeeCount                int64\nEmployeeNumber               int64\nEnvironmentSatisfaction      int64\nGender                      object\nHourlyRate                   int64\nJobInvolvement               int64\nJobLevel                     int64\nJobRole                     object\nJobSatisfaction              int64\nMaritalStatus               object\nMonthlyIncome                int64\nMonthlyRate                  int64\nNumCompaniesWorked           int64\nOver18                      object\nOverTime                    object\nPercentSalaryHike            int64\nPerformanceRating            int64\nRelationshipSatisfaction     int64\nStandardHours                int64\nStockOptionLevel             int64\nTotalWorkingYears            int64\nTrainingTimesLastYear        int64\nWorkLifeBalance              int64\nYearsAtCompany               int64\nYearsInCurrentRole           int64\nYearsSinceLastPromotion      int64\nYearsWithCurrManager         int64\ndtype: object"
     },
     "execution_count": 168,
     "metadata": {},
     "output_type": "execute_result"
    }
   ],
   "source": [
    "employeeAttrtion.dtypes"
   ],
   "metadata": {
    "collapsed": false
   }
  },
  {
   "cell_type": "markdown",
   "source": [
    "## Changing the Object Columns to useable Data\n",
    "\n",
    "### Attrition Column & OverTime Column\n",
    "\n",
    "The Attrition Column contains String values, the string values are Yes and No. It would be a perfect example where boolean values could be used, so we casted the String values to Booleans\n",
    "\n",
    "For the Overtime Column this is also the case, so we have to do the same for that."
   ],
   "metadata": {
    "collapsed": false
   }
  },
  {
   "cell_type": "code",
   "execution_count": 169,
   "outputs": [
    {
     "data": {
      "text/plain": "array(['Yes', 'No'], dtype=object)"
     },
     "execution_count": 169,
     "metadata": {},
     "output_type": "execute_result"
    }
   ],
   "source": [
    "employeeAttrtion['Attrition'].unique()"
   ],
   "metadata": {
    "collapsed": false
   }
  },
  {
   "cell_type": "code",
   "execution_count": 170,
   "outputs": [
    {
     "data": {
      "text/plain": "array(['Yes', 'No'], dtype=object)"
     },
     "execution_count": 170,
     "metadata": {},
     "output_type": "execute_result"
    }
   ],
   "source": [
    "employeeAttrtion['OverTime'].unique()"
   ],
   "metadata": {
    "collapsed": false
   }
  },
  {
   "cell_type": "code",
   "execution_count": 171,
   "outputs": [],
   "source": [
    "def cast_to_boolean(value):\n",
    "    return True if value == \"Yes\" else False"
   ],
   "metadata": {
    "collapsed": false
   }
  },
  {
   "cell_type": "code",
   "execution_count": 172,
   "outputs": [
    {
     "data": {
      "text/plain": "array([ True, False])"
     },
     "execution_count": 172,
     "metadata": {},
     "output_type": "execute_result"
    }
   ],
   "source": [
    "employeeAttrtion['Attrition'] = employeeAttrtion['Attrition'].map(cast_to_boolean)\n",
    "employeeAttrtion['Attrition'].unique()"
   ],
   "metadata": {
    "collapsed": false
   }
  },
  {
   "cell_type": "code",
   "execution_count": 173,
   "outputs": [
    {
     "data": {
      "text/plain": "array([ True, False])"
     },
     "execution_count": 173,
     "metadata": {},
     "output_type": "execute_result"
    }
   ],
   "source": [
    "employeeAttrtion['OverTime'] = employeeAttrtion['OverTime'].map(cast_to_boolean)\n",
    "employeeAttrtion['OverTime'].unique()"
   ],
   "metadata": {
    "collapsed": false
   }
  },
  {
   "cell_type": "code",
   "execution_count": 174,
   "outputs": [
    {
     "data": {
      "text/plain": "Age                          int64\nAttrition                     bool\nBusinessTravel              object\nDailyRate                    int64\nDepartment                  object\nDistanceFromHome             int64\nEducation                    int64\nEducationField              object\nEmployeeCount                int64\nEmployeeNumber               int64\nEnvironmentSatisfaction      int64\nGender                      object\nHourlyRate                   int64\nJobInvolvement               int64\nJobLevel                     int64\nJobRole                     object\nJobSatisfaction              int64\nMaritalStatus               object\nMonthlyIncome                int64\nMonthlyRate                  int64\nNumCompaniesWorked           int64\nOver18                      object\nOverTime                      bool\nPercentSalaryHike            int64\nPerformanceRating            int64\nRelationshipSatisfaction     int64\nStandardHours                int64\nStockOptionLevel             int64\nTotalWorkingYears            int64\nTrainingTimesLastYear        int64\nWorkLifeBalance              int64\nYearsAtCompany               int64\nYearsInCurrentRole           int64\nYearsSinceLastPromotion      int64\nYearsWithCurrManager         int64\ndtype: object"
     },
     "execution_count": 174,
     "metadata": {},
     "output_type": "execute_result"
    }
   ],
   "source": [
    "employeeAttrtion.dtypes"
   ],
   "metadata": {
    "collapsed": false
   }
  },
  {
   "cell_type": "markdown",
   "source": [
    "## Business Travel Column\n",
    "\n",
    "We need to transform the Business Travel Column because we can't train with String values.\n",
    "Therefore, we transform the Data to Ordinal values.\n",
    "\n",
    "For Business Travel:\n",
    "* 0 means that someone Non Travel (= Non-Travel Column) and a higher value means that someone travels more (either Travel_Rarely = 1 or Travel_Frequently = 2)"
   ],
   "metadata": {
    "collapsed": false
   }
  },
  {
   "cell_type": "code",
   "execution_count": 175,
   "outputs": [
    {
     "data": {
      "text/plain": "array(['Travel_Rarely', 'Travel_Frequently', 'Non-Travel'], dtype=object)"
     },
     "execution_count": 175,
     "metadata": {},
     "output_type": "execute_result"
    }
   ],
   "source": [
    "employeeAttrtion['BusinessTravel'].unique()"
   ],
   "metadata": {
    "collapsed": false
   }
  },
  {
   "cell_type": "code",
   "execution_count": 176,
   "outputs": [],
   "source": [
    "from sklearn.preprocessing import OrdinalEncoder"
   ],
   "metadata": {
    "collapsed": false
   }
  },
  {
   "cell_type": "code",
   "execution_count": 177,
   "outputs": [],
   "source": [
    "business_travel_ordered = ['Non-Travel', 'Travel_Frequently', 'Travel_Rarely']\n",
    "\n",
    "ordinal_encoder = OrdinalEncoder(categories=[business_travel_ordered])\n",
    "\n",
    "employeeAttrtion[['BusinessTravel']] = ordinal_encoder.fit_transform(employeeAttrtion[['BusinessTravel']])"
   ],
   "metadata": {
    "collapsed": false
   }
  },
  {
   "cell_type": "code",
   "execution_count": 178,
   "outputs": [
    {
     "data": {
      "text/plain": "array([2., 1., 0.])"
     },
     "execution_count": 178,
     "metadata": {},
     "output_type": "execute_result"
    }
   ],
   "source": [
    "employeeAttrtion['BusinessTravel'].unique()\n"
   ],
   "metadata": {
    "collapsed": false
   }
  },
  {
   "cell_type": "markdown",
   "source": [
    "# Remaining Columns\n"
   ],
   "metadata": {
    "collapsed": false
   }
  },
  {
   "cell_type": "code",
   "execution_count": 179,
   "outputs": [
    {
     "data": {
      "text/plain": "Age                           int64\nAttrition                      bool\nBusinessTravel              float64\nDailyRate                     int64\nDepartment                   object\nDistanceFromHome              int64\nEducation                     int64\nEducationField               object\nEmployeeCount                 int64\nEmployeeNumber                int64\nEnvironmentSatisfaction       int64\nGender                       object\nHourlyRate                    int64\nJobInvolvement                int64\nJobLevel                      int64\nJobRole                      object\nJobSatisfaction               int64\nMaritalStatus                object\nMonthlyIncome                 int64\nMonthlyRate                   int64\nNumCompaniesWorked            int64\nOver18                       object\nOverTime                       bool\nPercentSalaryHike             int64\nPerformanceRating             int64\nRelationshipSatisfaction      int64\nStandardHours                 int64\nStockOptionLevel              int64\nTotalWorkingYears             int64\nTrainingTimesLastYear         int64\nWorkLifeBalance               int64\nYearsAtCompany                int64\nYearsInCurrentRole            int64\nYearsSinceLastPromotion       int64\nYearsWithCurrManager          int64\ndtype: object"
     },
     "execution_count": 179,
     "metadata": {},
     "output_type": "execute_result"
    }
   ],
   "source": [
    "employeeAttrtion.sample(10)\n",
    "employeeAttrtion.dtypes\n"
   ],
   "metadata": {
    "collapsed": false
   }
  },
  {
   "cell_type": "markdown",
   "source": [
    "## The Columns which need to be reworked\n",
    "\n",
    "* Department\n",
    "* EducationField\n",
    "* JobRole\n",
    "* Gender\n",
    "* Over18"
   ],
   "metadata": {
    "collapsed": false
   }
  },
  {
   "cell_type": "markdown",
   "source": [
    "## Over 18 Column"
   ],
   "metadata": {
    "collapsed": false
   }
  },
  {
   "cell_type": "code",
   "execution_count": 180,
   "outputs": [
    {
     "data": {
      "text/plain": "array(['Y'], dtype=object)"
     },
     "execution_count": 180,
     "metadata": {},
     "output_type": "execute_result"
    }
   ],
   "source": [
    "employeeAttrtion['Over18'].unique()\n"
   ],
   "metadata": {
    "collapsed": false
   }
  },
  {
   "cell_type": "code",
   "execution_count": 181,
   "outputs": [],
   "source": [
    "def cast_over18_to_boolean(value):\n",
    "    return True if value == 'Y' else False"
   ],
   "metadata": {
    "collapsed": false
   }
  },
  {
   "cell_type": "code",
   "execution_count": 182,
   "outputs": [
    {
     "data": {
      "text/plain": "array([ True])"
     },
     "execution_count": 182,
     "metadata": {},
     "output_type": "execute_result"
    }
   ],
   "source": [
    "employeeAttrtion['Over18'] = employeeAttrtion['Over18'].map(cast_over18_to_boolean)\n",
    "employeeAttrtion['Over18'].unique()"
   ],
   "metadata": {
    "collapsed": false
   }
  },
  {
   "cell_type": "markdown",
   "source": [
    "## Gender Column"
   ],
   "metadata": {
    "collapsed": false
   }
  },
  {
   "cell_type": "code",
   "execution_count": 183,
   "outputs": [
    {
     "data": {
      "text/plain": "array(['Female', 'Male'], dtype=object)"
     },
     "execution_count": 183,
     "metadata": {},
     "output_type": "execute_result"
    }
   ],
   "source": [
    "employeeAttrtion['Gender'].unique()"
   ],
   "metadata": {
    "collapsed": false
   }
  },
  {
   "cell_type": "code",
   "execution_count": 184,
   "outputs": [],
   "source": [
    "def cast_gender_to_number(value):\n",
    "    return 1 if value == \"Male\" else 0"
   ],
   "metadata": {
    "collapsed": false
   }
  },
  {
   "cell_type": "code",
   "execution_count": 185,
   "outputs": [
    {
     "data": {
      "text/plain": "array([0, 1])"
     },
     "execution_count": 185,
     "metadata": {},
     "output_type": "execute_result"
    }
   ],
   "source": [
    "employeeAttrtion['Gender'] = employeeAttrtion['Gender'].map(cast_gender_to_number)\n",
    "employeeAttrtion['Gender'].unique()"
   ],
   "metadata": {
    "collapsed": false
   }
  },
  {
   "cell_type": "markdown",
   "source": [
    "# Non - Ordinal Data -> OneHotEncoder :^)\n",
    "\n",
    "* Department\n",
    "* EducationField\n",
    "* JobRole\n"
   ],
   "metadata": {
    "collapsed": false
   }
  },
  {
   "cell_type": "markdown",
   "source": [
    "## Department"
   ],
   "metadata": {
    "collapsed": false
   }
  },
  {
   "cell_type": "code",
   "execution_count": 186,
   "outputs": [
    {
     "data": {
      "text/plain": "array(['Sales', 'Research & Development', 'Human Resources'], dtype=object)"
     },
     "execution_count": 186,
     "metadata": {},
     "output_type": "execute_result"
    }
   ],
   "source": [
    "employeeAttrtion['Department'].unique()"
   ],
   "metadata": {
    "collapsed": false
   }
  },
  {
   "cell_type": "code",
   "execution_count": 187,
   "outputs": [],
   "source": [
    "from sklearn.preprocessing import OneHotEncoder\n",
    "\n",
    "one_hot_encoder = OneHotEncoder(sparse=False)\n",
    "one_hot_raw = one_hot_encoder.fit_transform(employeeAttrtion[['Department']])\n",
    "\n",
    "\n",
    "one_hot_raw = pd.DataFrame(one_hot_encoder.transform(employeeAttrtion[['Department']]),columns=one_hot_encoder.get_feature_names_out())\n",
    "one_hot_raw.index = employeeAttrtion.index\n",
    "employeeAttrtion = pd.concat([employeeAttrtion, one_hot_raw], axis=1)\n",
    "employeeAttrtion.drop(['Department'], axis=1, inplace=True)\n"
   ],
   "metadata": {
    "collapsed": false
   }
  },
  {
   "cell_type": "code",
   "execution_count": 188,
   "outputs": [
    {
     "data": {
      "text/plain": "      Age  Attrition  BusinessTravel  DailyRate  DistanceFromHome  Education  \\\n0      41       True             2.0       1102                 1          2   \n1      49      False             1.0        279                 8          1   \n2      37       True             2.0       1373                 2          2   \n3      33      False             1.0       1392                 3          4   \n4      27      False             2.0        591                 2          1   \n...   ...        ...             ...        ...               ...        ...   \n1465   36      False             1.0        884                23          2   \n1466   39      False             2.0        613                 6          1   \n1467   27      False             2.0        155                 4          3   \n1468   49      False             1.0       1023                 2          3   \n1469   34      False             2.0        628                 8          3   \n\n     EducationField  EmployeeCount  EmployeeNumber  EnvironmentSatisfaction  \\\n0     Life Sciences              1               1                        2   \n1     Life Sciences              1               2                        3   \n2             Other              1               4                        4   \n3     Life Sciences              1               5                        4   \n4           Medical              1               7                        1   \n...             ...            ...             ...                      ...   \n1465        Medical              1            2061                        3   \n1466        Medical              1            2062                        4   \n1467  Life Sciences              1            2064                        2   \n1468        Medical              1            2065                        4   \n1469        Medical              1            2068                        2   \n\n      ...  TotalWorkingYears  TrainingTimesLastYear  WorkLifeBalance  \\\n0     ...                  8                      0                1   \n1     ...                 10                      3                3   \n2     ...                  7                      3                3   \n3     ...                  8                      3                3   \n4     ...                  6                      3                3   \n...   ...                ...                    ...              ...   \n1465  ...                 17                      3                3   \n1466  ...                  9                      5                3   \n1467  ...                  6                      0                3   \n1468  ...                 17                      3                2   \n1469  ...                  6                      3                4   \n\n      YearsAtCompany YearsInCurrentRole  YearsSinceLastPromotion  \\\n0                  6                  4                        0   \n1                 10                  7                        1   \n2                  0                  0                        0   \n3                  8                  7                        3   \n4                  2                  2                        2   \n...              ...                ...                      ...   \n1465               5                  2                        0   \n1466               7                  7                        1   \n1467               6                  2                        0   \n1468               9                  6                        0   \n1469               4                  3                        1   \n\n     YearsWithCurrManager  Department_Human Resources  \\\n0                       5                         0.0   \n1                       7                         0.0   \n2                       0                         0.0   \n3                       0                         0.0   \n4                       2                         0.0   \n...                   ...                         ...   \n1465                    3                         0.0   \n1466                    7                         0.0   \n1467                    3                         0.0   \n1468                    8                         0.0   \n1469                    2                         0.0   \n\n      Department_Research & Development  Department_Sales  \n0                                   0.0               1.0  \n1                                   1.0               0.0  \n2                                   1.0               0.0  \n3                                   1.0               0.0  \n4                                   1.0               0.0  \n...                                 ...               ...  \n1465                                1.0               0.0  \n1466                                1.0               0.0  \n1467                                1.0               0.0  \n1468                                0.0               1.0  \n1469                                1.0               0.0  \n\n[1470 rows x 37 columns]",
      "text/html": "<div>\n<style scoped>\n    .dataframe tbody tr th:only-of-type {\n        vertical-align: middle;\n    }\n\n    .dataframe tbody tr th {\n        vertical-align: top;\n    }\n\n    .dataframe thead th {\n        text-align: right;\n    }\n</style>\n<table border=\"1\" class=\"dataframe\">\n  <thead>\n    <tr style=\"text-align: right;\">\n      <th></th>\n      <th>Age</th>\n      <th>Attrition</th>\n      <th>BusinessTravel</th>\n      <th>DailyRate</th>\n      <th>DistanceFromHome</th>\n      <th>Education</th>\n      <th>EducationField</th>\n      <th>EmployeeCount</th>\n      <th>EmployeeNumber</th>\n      <th>EnvironmentSatisfaction</th>\n      <th>...</th>\n      <th>TotalWorkingYears</th>\n      <th>TrainingTimesLastYear</th>\n      <th>WorkLifeBalance</th>\n      <th>YearsAtCompany</th>\n      <th>YearsInCurrentRole</th>\n      <th>YearsSinceLastPromotion</th>\n      <th>YearsWithCurrManager</th>\n      <th>Department_Human Resources</th>\n      <th>Department_Research &amp; Development</th>\n      <th>Department_Sales</th>\n    </tr>\n  </thead>\n  <tbody>\n    <tr>\n      <th>0</th>\n      <td>41</td>\n      <td>True</td>\n      <td>2.0</td>\n      <td>1102</td>\n      <td>1</td>\n      <td>2</td>\n      <td>Life Sciences</td>\n      <td>1</td>\n      <td>1</td>\n      <td>2</td>\n      <td>...</td>\n      <td>8</td>\n      <td>0</td>\n      <td>1</td>\n      <td>6</td>\n      <td>4</td>\n      <td>0</td>\n      <td>5</td>\n      <td>0.0</td>\n      <td>0.0</td>\n      <td>1.0</td>\n    </tr>\n    <tr>\n      <th>1</th>\n      <td>49</td>\n      <td>False</td>\n      <td>1.0</td>\n      <td>279</td>\n      <td>8</td>\n      <td>1</td>\n      <td>Life Sciences</td>\n      <td>1</td>\n      <td>2</td>\n      <td>3</td>\n      <td>...</td>\n      <td>10</td>\n      <td>3</td>\n      <td>3</td>\n      <td>10</td>\n      <td>7</td>\n      <td>1</td>\n      <td>7</td>\n      <td>0.0</td>\n      <td>1.0</td>\n      <td>0.0</td>\n    </tr>\n    <tr>\n      <th>2</th>\n      <td>37</td>\n      <td>True</td>\n      <td>2.0</td>\n      <td>1373</td>\n      <td>2</td>\n      <td>2</td>\n      <td>Other</td>\n      <td>1</td>\n      <td>4</td>\n      <td>4</td>\n      <td>...</td>\n      <td>7</td>\n      <td>3</td>\n      <td>3</td>\n      <td>0</td>\n      <td>0</td>\n      <td>0</td>\n      <td>0</td>\n      <td>0.0</td>\n      <td>1.0</td>\n      <td>0.0</td>\n    </tr>\n    <tr>\n      <th>3</th>\n      <td>33</td>\n      <td>False</td>\n      <td>1.0</td>\n      <td>1392</td>\n      <td>3</td>\n      <td>4</td>\n      <td>Life Sciences</td>\n      <td>1</td>\n      <td>5</td>\n      <td>4</td>\n      <td>...</td>\n      <td>8</td>\n      <td>3</td>\n      <td>3</td>\n      <td>8</td>\n      <td>7</td>\n      <td>3</td>\n      <td>0</td>\n      <td>0.0</td>\n      <td>1.0</td>\n      <td>0.0</td>\n    </tr>\n    <tr>\n      <th>4</th>\n      <td>27</td>\n      <td>False</td>\n      <td>2.0</td>\n      <td>591</td>\n      <td>2</td>\n      <td>1</td>\n      <td>Medical</td>\n      <td>1</td>\n      <td>7</td>\n      <td>1</td>\n      <td>...</td>\n      <td>6</td>\n      <td>3</td>\n      <td>3</td>\n      <td>2</td>\n      <td>2</td>\n      <td>2</td>\n      <td>2</td>\n      <td>0.0</td>\n      <td>1.0</td>\n      <td>0.0</td>\n    </tr>\n    <tr>\n      <th>...</th>\n      <td>...</td>\n      <td>...</td>\n      <td>...</td>\n      <td>...</td>\n      <td>...</td>\n      <td>...</td>\n      <td>...</td>\n      <td>...</td>\n      <td>...</td>\n      <td>...</td>\n      <td>...</td>\n      <td>...</td>\n      <td>...</td>\n      <td>...</td>\n      <td>...</td>\n      <td>...</td>\n      <td>...</td>\n      <td>...</td>\n      <td>...</td>\n      <td>...</td>\n      <td>...</td>\n    </tr>\n    <tr>\n      <th>1465</th>\n      <td>36</td>\n      <td>False</td>\n      <td>1.0</td>\n      <td>884</td>\n      <td>23</td>\n      <td>2</td>\n      <td>Medical</td>\n      <td>1</td>\n      <td>2061</td>\n      <td>3</td>\n      <td>...</td>\n      <td>17</td>\n      <td>3</td>\n      <td>3</td>\n      <td>5</td>\n      <td>2</td>\n      <td>0</td>\n      <td>3</td>\n      <td>0.0</td>\n      <td>1.0</td>\n      <td>0.0</td>\n    </tr>\n    <tr>\n      <th>1466</th>\n      <td>39</td>\n      <td>False</td>\n      <td>2.0</td>\n      <td>613</td>\n      <td>6</td>\n      <td>1</td>\n      <td>Medical</td>\n      <td>1</td>\n      <td>2062</td>\n      <td>4</td>\n      <td>...</td>\n      <td>9</td>\n      <td>5</td>\n      <td>3</td>\n      <td>7</td>\n      <td>7</td>\n      <td>1</td>\n      <td>7</td>\n      <td>0.0</td>\n      <td>1.0</td>\n      <td>0.0</td>\n    </tr>\n    <tr>\n      <th>1467</th>\n      <td>27</td>\n      <td>False</td>\n      <td>2.0</td>\n      <td>155</td>\n      <td>4</td>\n      <td>3</td>\n      <td>Life Sciences</td>\n      <td>1</td>\n      <td>2064</td>\n      <td>2</td>\n      <td>...</td>\n      <td>6</td>\n      <td>0</td>\n      <td>3</td>\n      <td>6</td>\n      <td>2</td>\n      <td>0</td>\n      <td>3</td>\n      <td>0.0</td>\n      <td>1.0</td>\n      <td>0.0</td>\n    </tr>\n    <tr>\n      <th>1468</th>\n      <td>49</td>\n      <td>False</td>\n      <td>1.0</td>\n      <td>1023</td>\n      <td>2</td>\n      <td>3</td>\n      <td>Medical</td>\n      <td>1</td>\n      <td>2065</td>\n      <td>4</td>\n      <td>...</td>\n      <td>17</td>\n      <td>3</td>\n      <td>2</td>\n      <td>9</td>\n      <td>6</td>\n      <td>0</td>\n      <td>8</td>\n      <td>0.0</td>\n      <td>0.0</td>\n      <td>1.0</td>\n    </tr>\n    <tr>\n      <th>1469</th>\n      <td>34</td>\n      <td>False</td>\n      <td>2.0</td>\n      <td>628</td>\n      <td>8</td>\n      <td>3</td>\n      <td>Medical</td>\n      <td>1</td>\n      <td>2068</td>\n      <td>2</td>\n      <td>...</td>\n      <td>6</td>\n      <td>3</td>\n      <td>4</td>\n      <td>4</td>\n      <td>3</td>\n      <td>1</td>\n      <td>2</td>\n      <td>0.0</td>\n      <td>1.0</td>\n      <td>0.0</td>\n    </tr>\n  </tbody>\n</table>\n<p>1470 rows × 37 columns</p>\n</div>"
     },
     "execution_count": 188,
     "metadata": {},
     "output_type": "execute_result"
    }
   ],
   "source": [
    "employeeAttrtion\n"
   ],
   "metadata": {
    "collapsed": false
   }
  },
  {
   "cell_type": "markdown",
   "source": [
    "## Education Field\n"
   ],
   "metadata": {
    "collapsed": false
   }
  },
  {
   "cell_type": "code",
   "execution_count": 189,
   "outputs": [],
   "source": [
    "one_hot_raw = one_hot_encoder.fit_transform(employeeAttrtion[['EducationField']])\n",
    "\n",
    "\n",
    "one_hot_raw = pd.DataFrame(one_hot_encoder.transform(employeeAttrtion[['EducationField']]),columns=one_hot_encoder.get_feature_names_out())\n",
    "one_hot_raw.index = employeeAttrtion.index\n",
    "employeeAttrtion = pd.concat([employeeAttrtion, one_hot_raw], axis=1)\n",
    "employeeAttrtion.drop(['EducationField'], axis=1, inplace=True)\n"
   ],
   "metadata": {
    "collapsed": false
   }
  },
  {
   "cell_type": "code",
   "execution_count": 190,
   "outputs": [
    {
     "data": {
      "text/plain": "      Age  Attrition  BusinessTravel  DailyRate  DistanceFromHome  Education  \\\n0      41       True             2.0       1102                 1          2   \n1      49      False             1.0        279                 8          1   \n2      37       True             2.0       1373                 2          2   \n3      33      False             1.0       1392                 3          4   \n4      27      False             2.0        591                 2          1   \n...   ...        ...             ...        ...               ...        ...   \n1465   36      False             1.0        884                23          2   \n1466   39      False             2.0        613                 6          1   \n1467   27      False             2.0        155                 4          3   \n1468   49      False             1.0       1023                 2          3   \n1469   34      False             2.0        628                 8          3   \n\n      EmployeeCount  EmployeeNumber  EnvironmentSatisfaction  Gender  ...  \\\n0                 1               1                        2       0  ...   \n1                 1               2                        3       1  ...   \n2                 1               4                        4       1  ...   \n3                 1               5                        4       0  ...   \n4                 1               7                        1       1  ...   \n...             ...             ...                      ...     ...  ...   \n1465              1            2061                        3       1  ...   \n1466              1            2062                        4       1  ...   \n1467              1            2064                        2       1  ...   \n1468              1            2065                        4       1  ...   \n1469              1            2068                        2       1  ...   \n\n      YearsWithCurrManager  Department_Human Resources  \\\n0                        5                         0.0   \n1                        7                         0.0   \n2                        0                         0.0   \n3                        0                         0.0   \n4                        2                         0.0   \n...                    ...                         ...   \n1465                     3                         0.0   \n1466                     7                         0.0   \n1467                     3                         0.0   \n1468                     8                         0.0   \n1469                     2                         0.0   \n\n      Department_Research & Development Department_Sales  \\\n0                                   0.0              1.0   \n1                                   1.0              0.0   \n2                                   1.0              0.0   \n3                                   1.0              0.0   \n4                                   1.0              0.0   \n...                                 ...              ...   \n1465                                1.0              0.0   \n1466                                1.0              0.0   \n1467                                1.0              0.0   \n1468                                0.0              1.0   \n1469                                1.0              0.0   \n\n      EducationField_Human Resources EducationField_Life Sciences  \\\n0                                0.0                          1.0   \n1                                0.0                          1.0   \n2                                0.0                          0.0   \n3                                0.0                          1.0   \n4                                0.0                          0.0   \n...                              ...                          ...   \n1465                             0.0                          0.0   \n1466                             0.0                          0.0   \n1467                             0.0                          1.0   \n1468                             0.0                          0.0   \n1469                             0.0                          0.0   \n\n      EducationField_Marketing  EducationField_Medical  EducationField_Other  \\\n0                          0.0                     0.0                   0.0   \n1                          0.0                     0.0                   0.0   \n2                          0.0                     0.0                   1.0   \n3                          0.0                     0.0                   0.0   \n4                          0.0                     1.0                   0.0   \n...                        ...                     ...                   ...   \n1465                       0.0                     1.0                   0.0   \n1466                       0.0                     1.0                   0.0   \n1467                       0.0                     0.0                   0.0   \n1468                       0.0                     1.0                   0.0   \n1469                       0.0                     1.0                   0.0   \n\n      EducationField_Technical Degree  \n0                                 0.0  \n1                                 0.0  \n2                                 0.0  \n3                                 0.0  \n4                                 0.0  \n...                               ...  \n1465                              0.0  \n1466                              0.0  \n1467                              0.0  \n1468                              0.0  \n1469                              0.0  \n\n[1470 rows x 42 columns]",
      "text/html": "<div>\n<style scoped>\n    .dataframe tbody tr th:only-of-type {\n        vertical-align: middle;\n    }\n\n    .dataframe tbody tr th {\n        vertical-align: top;\n    }\n\n    .dataframe thead th {\n        text-align: right;\n    }\n</style>\n<table border=\"1\" class=\"dataframe\">\n  <thead>\n    <tr style=\"text-align: right;\">\n      <th></th>\n      <th>Age</th>\n      <th>Attrition</th>\n      <th>BusinessTravel</th>\n      <th>DailyRate</th>\n      <th>DistanceFromHome</th>\n      <th>Education</th>\n      <th>EmployeeCount</th>\n      <th>EmployeeNumber</th>\n      <th>EnvironmentSatisfaction</th>\n      <th>Gender</th>\n      <th>...</th>\n      <th>YearsWithCurrManager</th>\n      <th>Department_Human Resources</th>\n      <th>Department_Research &amp; Development</th>\n      <th>Department_Sales</th>\n      <th>EducationField_Human Resources</th>\n      <th>EducationField_Life Sciences</th>\n      <th>EducationField_Marketing</th>\n      <th>EducationField_Medical</th>\n      <th>EducationField_Other</th>\n      <th>EducationField_Technical Degree</th>\n    </tr>\n  </thead>\n  <tbody>\n    <tr>\n      <th>0</th>\n      <td>41</td>\n      <td>True</td>\n      <td>2.0</td>\n      <td>1102</td>\n      <td>1</td>\n      <td>2</td>\n      <td>1</td>\n      <td>1</td>\n      <td>2</td>\n      <td>0</td>\n      <td>...</td>\n      <td>5</td>\n      <td>0.0</td>\n      <td>0.0</td>\n      <td>1.0</td>\n      <td>0.0</td>\n      <td>1.0</td>\n      <td>0.0</td>\n      <td>0.0</td>\n      <td>0.0</td>\n      <td>0.0</td>\n    </tr>\n    <tr>\n      <th>1</th>\n      <td>49</td>\n      <td>False</td>\n      <td>1.0</td>\n      <td>279</td>\n      <td>8</td>\n      <td>1</td>\n      <td>1</td>\n      <td>2</td>\n      <td>3</td>\n      <td>1</td>\n      <td>...</td>\n      <td>7</td>\n      <td>0.0</td>\n      <td>1.0</td>\n      <td>0.0</td>\n      <td>0.0</td>\n      <td>1.0</td>\n      <td>0.0</td>\n      <td>0.0</td>\n      <td>0.0</td>\n      <td>0.0</td>\n    </tr>\n    <tr>\n      <th>2</th>\n      <td>37</td>\n      <td>True</td>\n      <td>2.0</td>\n      <td>1373</td>\n      <td>2</td>\n      <td>2</td>\n      <td>1</td>\n      <td>4</td>\n      <td>4</td>\n      <td>1</td>\n      <td>...</td>\n      <td>0</td>\n      <td>0.0</td>\n      <td>1.0</td>\n      <td>0.0</td>\n      <td>0.0</td>\n      <td>0.0</td>\n      <td>0.0</td>\n      <td>0.0</td>\n      <td>1.0</td>\n      <td>0.0</td>\n    </tr>\n    <tr>\n      <th>3</th>\n      <td>33</td>\n      <td>False</td>\n      <td>1.0</td>\n      <td>1392</td>\n      <td>3</td>\n      <td>4</td>\n      <td>1</td>\n      <td>5</td>\n      <td>4</td>\n      <td>0</td>\n      <td>...</td>\n      <td>0</td>\n      <td>0.0</td>\n      <td>1.0</td>\n      <td>0.0</td>\n      <td>0.0</td>\n      <td>1.0</td>\n      <td>0.0</td>\n      <td>0.0</td>\n      <td>0.0</td>\n      <td>0.0</td>\n    </tr>\n    <tr>\n      <th>4</th>\n      <td>27</td>\n      <td>False</td>\n      <td>2.0</td>\n      <td>591</td>\n      <td>2</td>\n      <td>1</td>\n      <td>1</td>\n      <td>7</td>\n      <td>1</td>\n      <td>1</td>\n      <td>...</td>\n      <td>2</td>\n      <td>0.0</td>\n      <td>1.0</td>\n      <td>0.0</td>\n      <td>0.0</td>\n      <td>0.0</td>\n      <td>0.0</td>\n      <td>1.0</td>\n      <td>0.0</td>\n      <td>0.0</td>\n    </tr>\n    <tr>\n      <th>...</th>\n      <td>...</td>\n      <td>...</td>\n      <td>...</td>\n      <td>...</td>\n      <td>...</td>\n      <td>...</td>\n      <td>...</td>\n      <td>...</td>\n      <td>...</td>\n      <td>...</td>\n      <td>...</td>\n      <td>...</td>\n      <td>...</td>\n      <td>...</td>\n      <td>...</td>\n      <td>...</td>\n      <td>...</td>\n      <td>...</td>\n      <td>...</td>\n      <td>...</td>\n      <td>...</td>\n    </tr>\n    <tr>\n      <th>1465</th>\n      <td>36</td>\n      <td>False</td>\n      <td>1.0</td>\n      <td>884</td>\n      <td>23</td>\n      <td>2</td>\n      <td>1</td>\n      <td>2061</td>\n      <td>3</td>\n      <td>1</td>\n      <td>...</td>\n      <td>3</td>\n      <td>0.0</td>\n      <td>1.0</td>\n      <td>0.0</td>\n      <td>0.0</td>\n      <td>0.0</td>\n      <td>0.0</td>\n      <td>1.0</td>\n      <td>0.0</td>\n      <td>0.0</td>\n    </tr>\n    <tr>\n      <th>1466</th>\n      <td>39</td>\n      <td>False</td>\n      <td>2.0</td>\n      <td>613</td>\n      <td>6</td>\n      <td>1</td>\n      <td>1</td>\n      <td>2062</td>\n      <td>4</td>\n      <td>1</td>\n      <td>...</td>\n      <td>7</td>\n      <td>0.0</td>\n      <td>1.0</td>\n      <td>0.0</td>\n      <td>0.0</td>\n      <td>0.0</td>\n      <td>0.0</td>\n      <td>1.0</td>\n      <td>0.0</td>\n      <td>0.0</td>\n    </tr>\n    <tr>\n      <th>1467</th>\n      <td>27</td>\n      <td>False</td>\n      <td>2.0</td>\n      <td>155</td>\n      <td>4</td>\n      <td>3</td>\n      <td>1</td>\n      <td>2064</td>\n      <td>2</td>\n      <td>1</td>\n      <td>...</td>\n      <td>3</td>\n      <td>0.0</td>\n      <td>1.0</td>\n      <td>0.0</td>\n      <td>0.0</td>\n      <td>1.0</td>\n      <td>0.0</td>\n      <td>0.0</td>\n      <td>0.0</td>\n      <td>0.0</td>\n    </tr>\n    <tr>\n      <th>1468</th>\n      <td>49</td>\n      <td>False</td>\n      <td>1.0</td>\n      <td>1023</td>\n      <td>2</td>\n      <td>3</td>\n      <td>1</td>\n      <td>2065</td>\n      <td>4</td>\n      <td>1</td>\n      <td>...</td>\n      <td>8</td>\n      <td>0.0</td>\n      <td>0.0</td>\n      <td>1.0</td>\n      <td>0.0</td>\n      <td>0.0</td>\n      <td>0.0</td>\n      <td>1.0</td>\n      <td>0.0</td>\n      <td>0.0</td>\n    </tr>\n    <tr>\n      <th>1469</th>\n      <td>34</td>\n      <td>False</td>\n      <td>2.0</td>\n      <td>628</td>\n      <td>8</td>\n      <td>3</td>\n      <td>1</td>\n      <td>2068</td>\n      <td>2</td>\n      <td>1</td>\n      <td>...</td>\n      <td>2</td>\n      <td>0.0</td>\n      <td>1.0</td>\n      <td>0.0</td>\n      <td>0.0</td>\n      <td>0.0</td>\n      <td>0.0</td>\n      <td>1.0</td>\n      <td>0.0</td>\n      <td>0.0</td>\n    </tr>\n  </tbody>\n</table>\n<p>1470 rows × 42 columns</p>\n</div>"
     },
     "execution_count": 190,
     "metadata": {},
     "output_type": "execute_result"
    }
   ],
   "source": [
    "employeeAttrtion\n"
   ],
   "metadata": {
    "collapsed": false
   }
  },
  {
   "cell_type": "markdown",
   "source": [
    "## Job Role\n"
   ],
   "metadata": {
    "collapsed": false
   }
  },
  {
   "cell_type": "code",
   "execution_count": 191,
   "outputs": [],
   "source": [
    "one_hot_raw = one_hot_encoder.fit_transform(employeeAttrtion[['JobRole']])\n",
    "\n",
    "\n",
    "one_hot_raw = pd.DataFrame(one_hot_encoder.transform(employeeAttrtion[['JobRole']]),columns=one_hot_encoder.get_feature_names_out())\n",
    "one_hot_raw.index = employeeAttrtion.index\n",
    "employeeAttrtion = pd.concat([employeeAttrtion, one_hot_raw], axis=1)\n",
    "employeeAttrtion.drop(['JobRole'], axis=1, inplace=True)\n"
   ],
   "metadata": {
    "collapsed": false
   }
  },
  {
   "cell_type": "code",
   "execution_count": 192,
   "outputs": [
    {
     "data": {
      "text/plain": "      Age  Attrition  BusinessTravel  DailyRate  DistanceFromHome  Education  \\\n0      41       True             2.0       1102                 1          2   \n1      49      False             1.0        279                 8          1   \n2      37       True             2.0       1373                 2          2   \n3      33      False             1.0       1392                 3          4   \n4      27      False             2.0        591                 2          1   \n...   ...        ...             ...        ...               ...        ...   \n1465   36      False             1.0        884                23          2   \n1466   39      False             2.0        613                 6          1   \n1467   27      False             2.0        155                 4          3   \n1468   49      False             1.0       1023                 2          3   \n1469   34      False             2.0        628                 8          3   \n\n      EmployeeCount  EmployeeNumber  EnvironmentSatisfaction  Gender  ...  \\\n0                 1               1                        2       0  ...   \n1                 1               2                        3       1  ...   \n2                 1               4                        4       1  ...   \n3                 1               5                        4       0  ...   \n4                 1               7                        1       1  ...   \n...             ...             ...                      ...     ...  ...   \n1465              1            2061                        3       1  ...   \n1466              1            2062                        4       1  ...   \n1467              1            2064                        2       1  ...   \n1468              1            2065                        4       1  ...   \n1469              1            2068                        2       1  ...   \n\n      EducationField_Technical Degree  JobRole_Healthcare Representative  \\\n0                                 0.0                                0.0   \n1                                 0.0                                0.0   \n2                                 0.0                                0.0   \n3                                 0.0                                0.0   \n4                                 0.0                                0.0   \n...                               ...                                ...   \n1465                              0.0                                0.0   \n1466                              0.0                                1.0   \n1467                              0.0                                0.0   \n1468                              0.0                                0.0   \n1469                              0.0                                0.0   \n\n      JobRole_Human Resources  JobRole_Laboratory Technician JobRole_Manager  \\\n0                         0.0                            0.0             0.0   \n1                         0.0                            0.0             0.0   \n2                         0.0                            1.0             0.0   \n3                         0.0                            0.0             0.0   \n4                         0.0                            1.0             0.0   \n...                       ...                            ...             ...   \n1465                      0.0                            1.0             0.0   \n1466                      0.0                            0.0             0.0   \n1467                      0.0                            0.0             0.0   \n1468                      0.0                            0.0             0.0   \n1469                      0.0                            1.0             0.0   \n\n      JobRole_Manufacturing Director  JobRole_Research Director  \\\n0                                0.0                        0.0   \n1                                0.0                        0.0   \n2                                0.0                        0.0   \n3                                0.0                        0.0   \n4                                0.0                        0.0   \n...                              ...                        ...   \n1465                             0.0                        0.0   \n1466                             0.0                        0.0   \n1467                             1.0                        0.0   \n1468                             0.0                        0.0   \n1469                             0.0                        0.0   \n\n      JobRole_Research Scientist  JobRole_Sales Executive  \\\n0                            0.0                      1.0   \n1                            1.0                      0.0   \n2                            0.0                      0.0   \n3                            1.0                      0.0   \n4                            0.0                      0.0   \n...                          ...                      ...   \n1465                         0.0                      0.0   \n1466                         0.0                      0.0   \n1467                         0.0                      0.0   \n1468                         0.0                      1.0   \n1469                         0.0                      0.0   \n\n      JobRole_Sales Representative  \n0                              0.0  \n1                              0.0  \n2                              0.0  \n3                              0.0  \n4                              0.0  \n...                            ...  \n1465                           0.0  \n1466                           0.0  \n1467                           0.0  \n1468                           0.0  \n1469                           0.0  \n\n[1470 rows x 50 columns]",
      "text/html": "<div>\n<style scoped>\n    .dataframe tbody tr th:only-of-type {\n        vertical-align: middle;\n    }\n\n    .dataframe tbody tr th {\n        vertical-align: top;\n    }\n\n    .dataframe thead th {\n        text-align: right;\n    }\n</style>\n<table border=\"1\" class=\"dataframe\">\n  <thead>\n    <tr style=\"text-align: right;\">\n      <th></th>\n      <th>Age</th>\n      <th>Attrition</th>\n      <th>BusinessTravel</th>\n      <th>DailyRate</th>\n      <th>DistanceFromHome</th>\n      <th>Education</th>\n      <th>EmployeeCount</th>\n      <th>EmployeeNumber</th>\n      <th>EnvironmentSatisfaction</th>\n      <th>Gender</th>\n      <th>...</th>\n      <th>EducationField_Technical Degree</th>\n      <th>JobRole_Healthcare Representative</th>\n      <th>JobRole_Human Resources</th>\n      <th>JobRole_Laboratory Technician</th>\n      <th>JobRole_Manager</th>\n      <th>JobRole_Manufacturing Director</th>\n      <th>JobRole_Research Director</th>\n      <th>JobRole_Research Scientist</th>\n      <th>JobRole_Sales Executive</th>\n      <th>JobRole_Sales Representative</th>\n    </tr>\n  </thead>\n  <tbody>\n    <tr>\n      <th>0</th>\n      <td>41</td>\n      <td>True</td>\n      <td>2.0</td>\n      <td>1102</td>\n      <td>1</td>\n      <td>2</td>\n      <td>1</td>\n      <td>1</td>\n      <td>2</td>\n      <td>0</td>\n      <td>...</td>\n      <td>0.0</td>\n      <td>0.0</td>\n      <td>0.0</td>\n      <td>0.0</td>\n      <td>0.0</td>\n      <td>0.0</td>\n      <td>0.0</td>\n      <td>0.0</td>\n      <td>1.0</td>\n      <td>0.0</td>\n    </tr>\n    <tr>\n      <th>1</th>\n      <td>49</td>\n      <td>False</td>\n      <td>1.0</td>\n      <td>279</td>\n      <td>8</td>\n      <td>1</td>\n      <td>1</td>\n      <td>2</td>\n      <td>3</td>\n      <td>1</td>\n      <td>...</td>\n      <td>0.0</td>\n      <td>0.0</td>\n      <td>0.0</td>\n      <td>0.0</td>\n      <td>0.0</td>\n      <td>0.0</td>\n      <td>0.0</td>\n      <td>1.0</td>\n      <td>0.0</td>\n      <td>0.0</td>\n    </tr>\n    <tr>\n      <th>2</th>\n      <td>37</td>\n      <td>True</td>\n      <td>2.0</td>\n      <td>1373</td>\n      <td>2</td>\n      <td>2</td>\n      <td>1</td>\n      <td>4</td>\n      <td>4</td>\n      <td>1</td>\n      <td>...</td>\n      <td>0.0</td>\n      <td>0.0</td>\n      <td>0.0</td>\n      <td>1.0</td>\n      <td>0.0</td>\n      <td>0.0</td>\n      <td>0.0</td>\n      <td>0.0</td>\n      <td>0.0</td>\n      <td>0.0</td>\n    </tr>\n    <tr>\n      <th>3</th>\n      <td>33</td>\n      <td>False</td>\n      <td>1.0</td>\n      <td>1392</td>\n      <td>3</td>\n      <td>4</td>\n      <td>1</td>\n      <td>5</td>\n      <td>4</td>\n      <td>0</td>\n      <td>...</td>\n      <td>0.0</td>\n      <td>0.0</td>\n      <td>0.0</td>\n      <td>0.0</td>\n      <td>0.0</td>\n      <td>0.0</td>\n      <td>0.0</td>\n      <td>1.0</td>\n      <td>0.0</td>\n      <td>0.0</td>\n    </tr>\n    <tr>\n      <th>4</th>\n      <td>27</td>\n      <td>False</td>\n      <td>2.0</td>\n      <td>591</td>\n      <td>2</td>\n      <td>1</td>\n      <td>1</td>\n      <td>7</td>\n      <td>1</td>\n      <td>1</td>\n      <td>...</td>\n      <td>0.0</td>\n      <td>0.0</td>\n      <td>0.0</td>\n      <td>1.0</td>\n      <td>0.0</td>\n      <td>0.0</td>\n      <td>0.0</td>\n      <td>0.0</td>\n      <td>0.0</td>\n      <td>0.0</td>\n    </tr>\n    <tr>\n      <th>...</th>\n      <td>...</td>\n      <td>...</td>\n      <td>...</td>\n      <td>...</td>\n      <td>...</td>\n      <td>...</td>\n      <td>...</td>\n      <td>...</td>\n      <td>...</td>\n      <td>...</td>\n      <td>...</td>\n      <td>...</td>\n      <td>...</td>\n      <td>...</td>\n      <td>...</td>\n      <td>...</td>\n      <td>...</td>\n      <td>...</td>\n      <td>...</td>\n      <td>...</td>\n      <td>...</td>\n    </tr>\n    <tr>\n      <th>1465</th>\n      <td>36</td>\n      <td>False</td>\n      <td>1.0</td>\n      <td>884</td>\n      <td>23</td>\n      <td>2</td>\n      <td>1</td>\n      <td>2061</td>\n      <td>3</td>\n      <td>1</td>\n      <td>...</td>\n      <td>0.0</td>\n      <td>0.0</td>\n      <td>0.0</td>\n      <td>1.0</td>\n      <td>0.0</td>\n      <td>0.0</td>\n      <td>0.0</td>\n      <td>0.0</td>\n      <td>0.0</td>\n      <td>0.0</td>\n    </tr>\n    <tr>\n      <th>1466</th>\n      <td>39</td>\n      <td>False</td>\n      <td>2.0</td>\n      <td>613</td>\n      <td>6</td>\n      <td>1</td>\n      <td>1</td>\n      <td>2062</td>\n      <td>4</td>\n      <td>1</td>\n      <td>...</td>\n      <td>0.0</td>\n      <td>1.0</td>\n      <td>0.0</td>\n      <td>0.0</td>\n      <td>0.0</td>\n      <td>0.0</td>\n      <td>0.0</td>\n      <td>0.0</td>\n      <td>0.0</td>\n      <td>0.0</td>\n    </tr>\n    <tr>\n      <th>1467</th>\n      <td>27</td>\n      <td>False</td>\n      <td>2.0</td>\n      <td>155</td>\n      <td>4</td>\n      <td>3</td>\n      <td>1</td>\n      <td>2064</td>\n      <td>2</td>\n      <td>1</td>\n      <td>...</td>\n      <td>0.0</td>\n      <td>0.0</td>\n      <td>0.0</td>\n      <td>0.0</td>\n      <td>0.0</td>\n      <td>1.0</td>\n      <td>0.0</td>\n      <td>0.0</td>\n      <td>0.0</td>\n      <td>0.0</td>\n    </tr>\n    <tr>\n      <th>1468</th>\n      <td>49</td>\n      <td>False</td>\n      <td>1.0</td>\n      <td>1023</td>\n      <td>2</td>\n      <td>3</td>\n      <td>1</td>\n      <td>2065</td>\n      <td>4</td>\n      <td>1</td>\n      <td>...</td>\n      <td>0.0</td>\n      <td>0.0</td>\n      <td>0.0</td>\n      <td>0.0</td>\n      <td>0.0</td>\n      <td>0.0</td>\n      <td>0.0</td>\n      <td>0.0</td>\n      <td>1.0</td>\n      <td>0.0</td>\n    </tr>\n    <tr>\n      <th>1469</th>\n      <td>34</td>\n      <td>False</td>\n      <td>2.0</td>\n      <td>628</td>\n      <td>8</td>\n      <td>3</td>\n      <td>1</td>\n      <td>2068</td>\n      <td>2</td>\n      <td>1</td>\n      <td>...</td>\n      <td>0.0</td>\n      <td>0.0</td>\n      <td>0.0</td>\n      <td>1.0</td>\n      <td>0.0</td>\n      <td>0.0</td>\n      <td>0.0</td>\n      <td>0.0</td>\n      <td>0.0</td>\n      <td>0.0</td>\n    </tr>\n  </tbody>\n</table>\n<p>1470 rows × 50 columns</p>\n</div>"
     },
     "execution_count": 192,
     "metadata": {},
     "output_type": "execute_result"
    }
   ],
   "source": [
    "employeeAttrtion\n"
   ],
   "metadata": {
    "collapsed": false
   }
  },
  {
   "cell_type": "markdown",
   "source": [
    "# Result\n",
    "\n",
    "\n",
    "Now we can see that every column has a value which can be used for training"
   ],
   "metadata": {
    "collapsed": false
   }
  },
  {
   "cell_type": "code",
   "execution_count": 193,
   "outputs": [
    {
     "data": {
      "text/plain": "Age                                    int64\nAttrition                               bool\nBusinessTravel                       float64\nDailyRate                              int64\nDistanceFromHome                       int64\nEducation                              int64\nEmployeeCount                          int64\nEmployeeNumber                         int64\nEnvironmentSatisfaction                int64\nGender                                 int64\nHourlyRate                             int64\nJobInvolvement                         int64\nJobLevel                               int64\nJobSatisfaction                        int64\nMaritalStatus                         object\nMonthlyIncome                          int64\nMonthlyRate                            int64\nNumCompaniesWorked                     int64\nOver18                                  bool\nOverTime                                bool\nPercentSalaryHike                      int64\nPerformanceRating                      int64\nRelationshipSatisfaction               int64\nStandardHours                          int64\nStockOptionLevel                       int64\nTotalWorkingYears                      int64\nTrainingTimesLastYear                  int64\nWorkLifeBalance                        int64\nYearsAtCompany                         int64\nYearsInCurrentRole                     int64\nYearsSinceLastPromotion                int64\nYearsWithCurrManager                   int64\nDepartment_Human Resources           float64\nDepartment_Research & Development    float64\nDepartment_Sales                     float64\nEducationField_Human Resources       float64\nEducationField_Life Sciences         float64\nEducationField_Marketing             float64\nEducationField_Medical               float64\nEducationField_Other                 float64\nEducationField_Technical Degree      float64\nJobRole_Healthcare Representative    float64\nJobRole_Human Resources              float64\nJobRole_Laboratory Technician        float64\nJobRole_Manager                      float64\nJobRole_Manufacturing Director       float64\nJobRole_Research Director            float64\nJobRole_Research Scientist           float64\nJobRole_Sales Executive              float64\nJobRole_Sales Representative         float64\ndtype: object"
     },
     "execution_count": 193,
     "metadata": {},
     "output_type": "execute_result"
    }
   ],
   "source": [
    "employeeAttrtion.dtypes\n"
   ],
   "metadata": {
    "collapsed": false
   }
  },
  {
   "cell_type": "markdown",
   "source": [
    "## Saving the Data to a new CSV - File\n"
   ],
   "metadata": {
    "collapsed": false
   }
  },
  {
   "cell_type": "code",
   "execution_count": 195,
   "outputs": [],
   "source": [
    "employeeAttrtion.to_csv(\"data/prepared-employee_attrition.csv\")\n"
   ],
   "metadata": {
    "collapsed": false
   }
  }
 ],
 "metadata": {
  "kernelspec": {
   "display_name": "Python 3",
   "language": "python",
   "name": "python3"
  },
  "language_info": {
   "codemirror_mode": {
    "name": "ipython",
    "version": 2
   },
   "file_extension": ".py",
   "mimetype": "text/x-python",
   "name": "python",
   "nbconvert_exporter": "python",
   "pygments_lexer": "ipython2",
   "version": "2.7.6"
  }
 },
 "nbformat": 4,
 "nbformat_minor": 0
}
